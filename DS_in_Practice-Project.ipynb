{
 "cells": [
  {
   "cell_type": "markdown",
   "metadata": {},
   "source": [
    "## Import"
   ]
  },
  {
   "cell_type": "code",
   "execution_count": 141,
   "metadata": {},
   "outputs": [],
   "source": [
    "import warnings\n",
    "warnings.filterwarnings(\"ignore\")\n",
    "\n",
    "import numpy as np\n",
    "import pandas as pd\n",
    "import seaborn as sns\n",
    "sns.set()\n",
    "import matplotlib.pyplot as plt\n",
    "\n",
    "from sklearn import preprocessing\n",
    "from sklearn.linear_model import LinearRegression\n",
    "from sklearn.feature_selection import RFE\n",
    "from sklearn.model_selection import KFold"
   ]
  },
  {
   "cell_type": "markdown",
   "metadata": {},
   "source": [
    "## Load the Data"
   ]
  },
  {
   "cell_type": "code",
   "execution_count": 2,
   "metadata": {},
   "outputs": [],
   "source": [
    "# Load the dataset\n",
    "life_expectancy_df = pd.read_csv('Data/Life Expectancy Data.csv')"
   ]
  },
  {
   "cell_type": "code",
   "execution_count": 3,
   "metadata": {},
   "outputs": [
    {
     "data": {
      "text/html": [
       "<div>\n",
       "<style scoped>\n",
       "    .dataframe tbody tr th:only-of-type {\n",
       "        vertical-align: middle;\n",
       "    }\n",
       "\n",
       "    .dataframe tbody tr th {\n",
       "        vertical-align: top;\n",
       "    }\n",
       "\n",
       "    .dataframe thead th {\n",
       "        text-align: right;\n",
       "    }\n",
       "</style>\n",
       "<table border=\"1\" class=\"dataframe\">\n",
       "  <thead>\n",
       "    <tr style=\"text-align: right;\">\n",
       "      <th></th>\n",
       "      <th>Country</th>\n",
       "      <th>Year</th>\n",
       "      <th>Status</th>\n",
       "      <th>Life expectancy</th>\n",
       "      <th>Adult Mortality</th>\n",
       "      <th>infant deaths</th>\n",
       "      <th>Alcohol</th>\n",
       "      <th>percentage expenditure</th>\n",
       "      <th>Hepatitis B</th>\n",
       "      <th>Measles</th>\n",
       "      <th>...</th>\n",
       "      <th>Polio</th>\n",
       "      <th>Total expenditure</th>\n",
       "      <th>Diphtheria</th>\n",
       "      <th>HIV/AIDS</th>\n",
       "      <th>GDP</th>\n",
       "      <th>Population</th>\n",
       "      <th>thinness  1-19 years</th>\n",
       "      <th>thinness 5-9 years</th>\n",
       "      <th>Income composition of resources</th>\n",
       "      <th>Schooling</th>\n",
       "    </tr>\n",
       "  </thead>\n",
       "  <tbody>\n",
       "    <tr>\n",
       "      <th>0</th>\n",
       "      <td>Afghanistan</td>\n",
       "      <td>2015</td>\n",
       "      <td>Developing</td>\n",
       "      <td>65.0</td>\n",
       "      <td>263.0</td>\n",
       "      <td>62</td>\n",
       "      <td>0.01</td>\n",
       "      <td>71.279624</td>\n",
       "      <td>65.0</td>\n",
       "      <td>1154</td>\n",
       "      <td>...</td>\n",
       "      <td>6.0</td>\n",
       "      <td>8.16</td>\n",
       "      <td>65.0</td>\n",
       "      <td>0.1</td>\n",
       "      <td>584.259210</td>\n",
       "      <td>33736494.0</td>\n",
       "      <td>17.2</td>\n",
       "      <td>17.3</td>\n",
       "      <td>0.479</td>\n",
       "      <td>10.1</td>\n",
       "    </tr>\n",
       "    <tr>\n",
       "      <th>1</th>\n",
       "      <td>Afghanistan</td>\n",
       "      <td>2014</td>\n",
       "      <td>Developing</td>\n",
       "      <td>59.9</td>\n",
       "      <td>271.0</td>\n",
       "      <td>64</td>\n",
       "      <td>0.01</td>\n",
       "      <td>73.523582</td>\n",
       "      <td>62.0</td>\n",
       "      <td>492</td>\n",
       "      <td>...</td>\n",
       "      <td>58.0</td>\n",
       "      <td>8.18</td>\n",
       "      <td>62.0</td>\n",
       "      <td>0.1</td>\n",
       "      <td>612.696514</td>\n",
       "      <td>327582.0</td>\n",
       "      <td>17.5</td>\n",
       "      <td>17.5</td>\n",
       "      <td>0.476</td>\n",
       "      <td>10.0</td>\n",
       "    </tr>\n",
       "    <tr>\n",
       "      <th>2</th>\n",
       "      <td>Afghanistan</td>\n",
       "      <td>2013</td>\n",
       "      <td>Developing</td>\n",
       "      <td>59.9</td>\n",
       "      <td>268.0</td>\n",
       "      <td>66</td>\n",
       "      <td>0.01</td>\n",
       "      <td>73.219243</td>\n",
       "      <td>64.0</td>\n",
       "      <td>430</td>\n",
       "      <td>...</td>\n",
       "      <td>62.0</td>\n",
       "      <td>8.13</td>\n",
       "      <td>64.0</td>\n",
       "      <td>0.1</td>\n",
       "      <td>631.744976</td>\n",
       "      <td>31731688.0</td>\n",
       "      <td>17.7</td>\n",
       "      <td>17.7</td>\n",
       "      <td>0.470</td>\n",
       "      <td>9.9</td>\n",
       "    </tr>\n",
       "    <tr>\n",
       "      <th>3</th>\n",
       "      <td>Afghanistan</td>\n",
       "      <td>2012</td>\n",
       "      <td>Developing</td>\n",
       "      <td>59.5</td>\n",
       "      <td>272.0</td>\n",
       "      <td>69</td>\n",
       "      <td>0.01</td>\n",
       "      <td>78.184215</td>\n",
       "      <td>67.0</td>\n",
       "      <td>2787</td>\n",
       "      <td>...</td>\n",
       "      <td>67.0</td>\n",
       "      <td>8.52</td>\n",
       "      <td>67.0</td>\n",
       "      <td>0.1</td>\n",
       "      <td>669.959000</td>\n",
       "      <td>3696958.0</td>\n",
       "      <td>17.9</td>\n",
       "      <td>18.0</td>\n",
       "      <td>0.463</td>\n",
       "      <td>9.8</td>\n",
       "    </tr>\n",
       "    <tr>\n",
       "      <th>4</th>\n",
       "      <td>Afghanistan</td>\n",
       "      <td>2011</td>\n",
       "      <td>Developing</td>\n",
       "      <td>59.2</td>\n",
       "      <td>275.0</td>\n",
       "      <td>71</td>\n",
       "      <td>0.01</td>\n",
       "      <td>7.097109</td>\n",
       "      <td>68.0</td>\n",
       "      <td>3013</td>\n",
       "      <td>...</td>\n",
       "      <td>68.0</td>\n",
       "      <td>7.87</td>\n",
       "      <td>68.0</td>\n",
       "      <td>0.1</td>\n",
       "      <td>63.537231</td>\n",
       "      <td>2978599.0</td>\n",
       "      <td>18.2</td>\n",
       "      <td>18.2</td>\n",
       "      <td>0.454</td>\n",
       "      <td>9.5</td>\n",
       "    </tr>\n",
       "  </tbody>\n",
       "</table>\n",
       "<p>5 rows × 22 columns</p>\n",
       "</div>"
      ],
      "text/plain": [
       "       Country  Year      Status  Life expectancy   Adult Mortality  \\\n",
       "0  Afghanistan  2015  Developing              65.0            263.0   \n",
       "1  Afghanistan  2014  Developing              59.9            271.0   \n",
       "2  Afghanistan  2013  Developing              59.9            268.0   \n",
       "3  Afghanistan  2012  Developing              59.5            272.0   \n",
       "4  Afghanistan  2011  Developing              59.2            275.0   \n",
       "\n",
       "   infant deaths  Alcohol  percentage expenditure  Hepatitis B  Measles   \\\n",
       "0             62     0.01               71.279624         65.0      1154   \n",
       "1             64     0.01               73.523582         62.0       492   \n",
       "2             66     0.01               73.219243         64.0       430   \n",
       "3             69     0.01               78.184215         67.0      2787   \n",
       "4             71     0.01                7.097109         68.0      3013   \n",
       "\n",
       "     ...      Polio  Total expenditure  Diphtheria    HIV/AIDS         GDP  \\\n",
       "0    ...        6.0               8.16         65.0        0.1  584.259210   \n",
       "1    ...       58.0               8.18         62.0        0.1  612.696514   \n",
       "2    ...       62.0               8.13         64.0        0.1  631.744976   \n",
       "3    ...       67.0               8.52         67.0        0.1  669.959000   \n",
       "4    ...       68.0               7.87         68.0        0.1   63.537231   \n",
       "\n",
       "   Population   thinness  1-19 years   thinness 5-9 years  \\\n",
       "0  33736494.0                   17.2                 17.3   \n",
       "1    327582.0                   17.5                 17.5   \n",
       "2  31731688.0                   17.7                 17.7   \n",
       "3   3696958.0                   17.9                 18.0   \n",
       "4   2978599.0                   18.2                 18.2   \n",
       "\n",
       "   Income composition of resources  Schooling  \n",
       "0                            0.479       10.1  \n",
       "1                            0.476       10.0  \n",
       "2                            0.470        9.9  \n",
       "3                            0.463        9.8  \n",
       "4                            0.454        9.5  \n",
       "\n",
       "[5 rows x 22 columns]"
      ]
     },
     "execution_count": 3,
     "metadata": {},
     "output_type": "execute_result"
    }
   ],
   "source": [
    "# Show the dataset\n",
    "life_expectancy_df.head()"
   ]
  },
  {
   "cell_type": "code",
   "execution_count": 4,
   "metadata": {},
   "outputs": [
    {
     "data": {
      "text/html": [
       "<div>\n",
       "<style scoped>\n",
       "    .dataframe tbody tr th:only-of-type {\n",
       "        vertical-align: middle;\n",
       "    }\n",
       "\n",
       "    .dataframe tbody tr th {\n",
       "        vertical-align: top;\n",
       "    }\n",
       "\n",
       "    .dataframe thead th {\n",
       "        text-align: right;\n",
       "    }\n",
       "</style>\n",
       "<table border=\"1\" class=\"dataframe\">\n",
       "  <thead>\n",
       "    <tr style=\"text-align: right;\">\n",
       "      <th></th>\n",
       "      <th>Year</th>\n",
       "      <th>Life expectancy</th>\n",
       "      <th>Adult Mortality</th>\n",
       "      <th>infant deaths</th>\n",
       "      <th>Alcohol</th>\n",
       "      <th>percentage expenditure</th>\n",
       "      <th>Hepatitis B</th>\n",
       "      <th>Measles</th>\n",
       "      <th>BMI</th>\n",
       "      <th>under-five deaths</th>\n",
       "      <th>Polio</th>\n",
       "      <th>Total expenditure</th>\n",
       "      <th>Diphtheria</th>\n",
       "      <th>HIV/AIDS</th>\n",
       "      <th>GDP</th>\n",
       "      <th>Population</th>\n",
       "      <th>thinness  1-19 years</th>\n",
       "      <th>thinness 5-9 years</th>\n",
       "      <th>Income composition of resources</th>\n",
       "      <th>Schooling</th>\n",
       "    </tr>\n",
       "  </thead>\n",
       "  <tbody>\n",
       "    <tr>\n",
       "      <th>count</th>\n",
       "      <td>2938.000000</td>\n",
       "      <td>2928.000000</td>\n",
       "      <td>2928.000000</td>\n",
       "      <td>2938.000000</td>\n",
       "      <td>2744.000000</td>\n",
       "      <td>2938.000000</td>\n",
       "      <td>2385.000000</td>\n",
       "      <td>2938.000000</td>\n",
       "      <td>2904.000000</td>\n",
       "      <td>2938.000000</td>\n",
       "      <td>2919.000000</td>\n",
       "      <td>2712.00000</td>\n",
       "      <td>2919.000000</td>\n",
       "      <td>2938.000000</td>\n",
       "      <td>2490.000000</td>\n",
       "      <td>2.286000e+03</td>\n",
       "      <td>2904.000000</td>\n",
       "      <td>2904.000000</td>\n",
       "      <td>2771.000000</td>\n",
       "      <td>2775.000000</td>\n",
       "    </tr>\n",
       "    <tr>\n",
       "      <th>mean</th>\n",
       "      <td>2007.518720</td>\n",
       "      <td>69.224932</td>\n",
       "      <td>164.796448</td>\n",
       "      <td>30.303948</td>\n",
       "      <td>4.602861</td>\n",
       "      <td>738.251295</td>\n",
       "      <td>80.940461</td>\n",
       "      <td>2419.592240</td>\n",
       "      <td>38.321247</td>\n",
       "      <td>42.035739</td>\n",
       "      <td>82.550188</td>\n",
       "      <td>5.93819</td>\n",
       "      <td>82.324084</td>\n",
       "      <td>1.742103</td>\n",
       "      <td>7483.158469</td>\n",
       "      <td>1.275338e+07</td>\n",
       "      <td>4.839704</td>\n",
       "      <td>4.870317</td>\n",
       "      <td>0.627551</td>\n",
       "      <td>11.992793</td>\n",
       "    </tr>\n",
       "    <tr>\n",
       "      <th>std</th>\n",
       "      <td>4.613841</td>\n",
       "      <td>9.523867</td>\n",
       "      <td>124.292079</td>\n",
       "      <td>117.926501</td>\n",
       "      <td>4.052413</td>\n",
       "      <td>1987.914858</td>\n",
       "      <td>25.070016</td>\n",
       "      <td>11467.272489</td>\n",
       "      <td>20.044034</td>\n",
       "      <td>160.445548</td>\n",
       "      <td>23.428046</td>\n",
       "      <td>2.49832</td>\n",
       "      <td>23.716912</td>\n",
       "      <td>5.077785</td>\n",
       "      <td>14270.169342</td>\n",
       "      <td>6.101210e+07</td>\n",
       "      <td>4.420195</td>\n",
       "      <td>4.508882</td>\n",
       "      <td>0.210904</td>\n",
       "      <td>3.358920</td>\n",
       "    </tr>\n",
       "    <tr>\n",
       "      <th>min</th>\n",
       "      <td>2000.000000</td>\n",
       "      <td>36.300000</td>\n",
       "      <td>1.000000</td>\n",
       "      <td>0.000000</td>\n",
       "      <td>0.010000</td>\n",
       "      <td>0.000000</td>\n",
       "      <td>1.000000</td>\n",
       "      <td>0.000000</td>\n",
       "      <td>1.000000</td>\n",
       "      <td>0.000000</td>\n",
       "      <td>3.000000</td>\n",
       "      <td>0.37000</td>\n",
       "      <td>2.000000</td>\n",
       "      <td>0.100000</td>\n",
       "      <td>1.681350</td>\n",
       "      <td>3.400000e+01</td>\n",
       "      <td>0.100000</td>\n",
       "      <td>0.100000</td>\n",
       "      <td>0.000000</td>\n",
       "      <td>0.000000</td>\n",
       "    </tr>\n",
       "    <tr>\n",
       "      <th>25%</th>\n",
       "      <td>2004.000000</td>\n",
       "      <td>63.100000</td>\n",
       "      <td>74.000000</td>\n",
       "      <td>0.000000</td>\n",
       "      <td>0.877500</td>\n",
       "      <td>4.685343</td>\n",
       "      <td>77.000000</td>\n",
       "      <td>0.000000</td>\n",
       "      <td>19.300000</td>\n",
       "      <td>0.000000</td>\n",
       "      <td>78.000000</td>\n",
       "      <td>4.26000</td>\n",
       "      <td>78.000000</td>\n",
       "      <td>0.100000</td>\n",
       "      <td>463.935626</td>\n",
       "      <td>1.957932e+05</td>\n",
       "      <td>1.600000</td>\n",
       "      <td>1.500000</td>\n",
       "      <td>0.493000</td>\n",
       "      <td>10.100000</td>\n",
       "    </tr>\n",
       "    <tr>\n",
       "      <th>50%</th>\n",
       "      <td>2008.000000</td>\n",
       "      <td>72.100000</td>\n",
       "      <td>144.000000</td>\n",
       "      <td>3.000000</td>\n",
       "      <td>3.755000</td>\n",
       "      <td>64.912906</td>\n",
       "      <td>92.000000</td>\n",
       "      <td>17.000000</td>\n",
       "      <td>43.500000</td>\n",
       "      <td>4.000000</td>\n",
       "      <td>93.000000</td>\n",
       "      <td>5.75500</td>\n",
       "      <td>93.000000</td>\n",
       "      <td>0.100000</td>\n",
       "      <td>1766.947595</td>\n",
       "      <td>1.386542e+06</td>\n",
       "      <td>3.300000</td>\n",
       "      <td>3.300000</td>\n",
       "      <td>0.677000</td>\n",
       "      <td>12.300000</td>\n",
       "    </tr>\n",
       "    <tr>\n",
       "      <th>75%</th>\n",
       "      <td>2012.000000</td>\n",
       "      <td>75.700000</td>\n",
       "      <td>228.000000</td>\n",
       "      <td>22.000000</td>\n",
       "      <td>7.702500</td>\n",
       "      <td>441.534144</td>\n",
       "      <td>97.000000</td>\n",
       "      <td>360.250000</td>\n",
       "      <td>56.200000</td>\n",
       "      <td>28.000000</td>\n",
       "      <td>97.000000</td>\n",
       "      <td>7.49250</td>\n",
       "      <td>97.000000</td>\n",
       "      <td>0.800000</td>\n",
       "      <td>5910.806335</td>\n",
       "      <td>7.420359e+06</td>\n",
       "      <td>7.200000</td>\n",
       "      <td>7.200000</td>\n",
       "      <td>0.779000</td>\n",
       "      <td>14.300000</td>\n",
       "    </tr>\n",
       "    <tr>\n",
       "      <th>max</th>\n",
       "      <td>2015.000000</td>\n",
       "      <td>89.000000</td>\n",
       "      <td>723.000000</td>\n",
       "      <td>1800.000000</td>\n",
       "      <td>17.870000</td>\n",
       "      <td>19479.911610</td>\n",
       "      <td>99.000000</td>\n",
       "      <td>212183.000000</td>\n",
       "      <td>87.300000</td>\n",
       "      <td>2500.000000</td>\n",
       "      <td>99.000000</td>\n",
       "      <td>17.60000</td>\n",
       "      <td>99.000000</td>\n",
       "      <td>50.600000</td>\n",
       "      <td>119172.741800</td>\n",
       "      <td>1.293859e+09</td>\n",
       "      <td>27.700000</td>\n",
       "      <td>28.600000</td>\n",
       "      <td>0.948000</td>\n",
       "      <td>20.700000</td>\n",
       "    </tr>\n",
       "  </tbody>\n",
       "</table>\n",
       "</div>"
      ],
      "text/plain": [
       "              Year  Life expectancy   Adult Mortality  infant deaths  \\\n",
       "count  2938.000000       2928.000000      2928.000000    2938.000000   \n",
       "mean   2007.518720         69.224932       164.796448      30.303948   \n",
       "std       4.613841          9.523867       124.292079     117.926501   \n",
       "min    2000.000000         36.300000         1.000000       0.000000   \n",
       "25%    2004.000000         63.100000        74.000000       0.000000   \n",
       "50%    2008.000000         72.100000       144.000000       3.000000   \n",
       "75%    2012.000000         75.700000       228.000000      22.000000   \n",
       "max    2015.000000         89.000000       723.000000    1800.000000   \n",
       "\n",
       "           Alcohol  percentage expenditure  Hepatitis B       Measles   \\\n",
       "count  2744.000000             2938.000000  2385.000000    2938.000000   \n",
       "mean      4.602861              738.251295    80.940461    2419.592240   \n",
       "std       4.052413             1987.914858    25.070016   11467.272489   \n",
       "min       0.010000                0.000000     1.000000       0.000000   \n",
       "25%       0.877500                4.685343    77.000000       0.000000   \n",
       "50%       3.755000               64.912906    92.000000      17.000000   \n",
       "75%       7.702500              441.534144    97.000000     360.250000   \n",
       "max      17.870000            19479.911610    99.000000  212183.000000   \n",
       "\n",
       "              BMI   under-five deaths         Polio  Total expenditure  \\\n",
       "count  2904.000000         2938.000000  2919.000000         2712.00000   \n",
       "mean     38.321247           42.035739    82.550188            5.93819   \n",
       "std      20.044034          160.445548    23.428046            2.49832   \n",
       "min       1.000000            0.000000     3.000000            0.37000   \n",
       "25%      19.300000            0.000000    78.000000            4.26000   \n",
       "50%      43.500000            4.000000    93.000000            5.75500   \n",
       "75%      56.200000           28.000000    97.000000            7.49250   \n",
       "max      87.300000         2500.000000    99.000000           17.60000   \n",
       "\n",
       "       Diphtheria      HIV/AIDS            GDP    Population  \\\n",
       "count  2919.000000  2938.000000    2490.000000  2.286000e+03   \n",
       "mean     82.324084     1.742103    7483.158469  1.275338e+07   \n",
       "std      23.716912     5.077785   14270.169342  6.101210e+07   \n",
       "min       2.000000     0.100000       1.681350  3.400000e+01   \n",
       "25%      78.000000     0.100000     463.935626  1.957932e+05   \n",
       "50%      93.000000     0.100000    1766.947595  1.386542e+06   \n",
       "75%      97.000000     0.800000    5910.806335  7.420359e+06   \n",
       "max      99.000000    50.600000  119172.741800  1.293859e+09   \n",
       "\n",
       "        thinness  1-19 years   thinness 5-9 years  \\\n",
       "count            2904.000000          2904.000000   \n",
       "mean                4.839704             4.870317   \n",
       "std                 4.420195             4.508882   \n",
       "min                 0.100000             0.100000   \n",
       "25%                 1.600000             1.500000   \n",
       "50%                 3.300000             3.300000   \n",
       "75%                 7.200000             7.200000   \n",
       "max                27.700000            28.600000   \n",
       "\n",
       "       Income composition of resources    Schooling  \n",
       "count                      2771.000000  2775.000000  \n",
       "mean                          0.627551    11.992793  \n",
       "std                           0.210904     3.358920  \n",
       "min                           0.000000     0.000000  \n",
       "25%                           0.493000    10.100000  \n",
       "50%                           0.677000    12.300000  \n",
       "75%                           0.779000    14.300000  \n",
       "max                           0.948000    20.700000  "
      ]
     },
     "execution_count": 4,
     "metadata": {},
     "output_type": "execute_result"
    }
   ],
   "source": [
    "# Describe the dataset\n",
    "life_expectancy_df.describe()"
   ]
  },
  {
   "cell_type": "code",
   "execution_count": 5,
   "metadata": {},
   "outputs": [
    {
     "name": "stdout",
     "output_type": "stream",
     "text": [
      "In this dataset, 193 countries are represented\n"
     ]
    }
   ],
   "source": [
    "# Get the total number of countries\n",
    "print('In this dataset, {} countries are represented'.format(np.unique(life_expectancy_df['Country'].values).size))"
   ]
  },
  {
   "cell_type": "code",
   "execution_count": 6,
   "metadata": {},
   "outputs": [
    {
     "data": {
      "text/plain": [
       "Index(['Country', 'Year', 'Status', 'Life expectancy ', 'Adult Mortality',\n",
       "       'infant deaths', 'Alcohol', 'percentage expenditure', 'Hepatitis B',\n",
       "       'Measles ', ' BMI ', 'under-five deaths ', 'Polio', 'Total expenditure',\n",
       "       'Diphtheria ', ' HIV/AIDS', 'GDP', 'Population',\n",
       "       ' thinness  1-19 years', ' thinness 5-9 years',\n",
       "       'Income composition of resources', 'Schooling'],\n",
       "      dtype='object')"
      ]
     },
     "execution_count": 6,
     "metadata": {},
     "output_type": "execute_result"
    }
   ],
   "source": [
    "# Get the name of the columns\n",
    "life_expectancy_df.columns"
   ]
  },
  {
   "cell_type": "markdown",
   "metadata": {},
   "source": [
    "## Clean the dataset"
   ]
  },
  {
   "cell_type": "markdown",
   "metadata": {},
   "source": [
    "### Rename columns properly"
   ]
  },
  {
   "cell_type": "markdown",
   "metadata": {},
   "source": [
    "First of all, we can see from the list above that some column's name are bad written. We start by correcting it."
   ]
  },
  {
   "cell_type": "code",
   "execution_count": 7,
   "metadata": {},
   "outputs": [],
   "source": [
    "# Rename the columns that contains extra spaces\n",
    "life_expectancy_df = life_expectancy_df.rename(index=str, columns={\"Life expectancy \": \"Life expectancy\",\n",
    "                                                                   \"Measles \": \"Measles\",\n",
    "                                                                   \" BMI \": \"BMI\",\n",
    "                                                                   \"under-five deaths \": \"under-five deaths\",\n",
    "                                                                   \"Diphtheria \": \"Diphtheria\",\n",
    "                                                                   \" HIV/AIDS\": \"HIV/AIDS\",\n",
    "                                                                   \" thinness  1-19 years\": \"thinness 1-19 years\",\n",
    "                                                                   \" thinness 5-9 years\": \"thinness 5-9 years\"})"
   ]
  },
  {
   "cell_type": "markdown",
   "metadata": {},
   "source": [
    "### Get rid of NaN values"
   ]
  },
  {
   "cell_type": "code",
   "execution_count": 8,
   "metadata": {},
   "outputs": [],
   "source": [
    "def get_nan_columns(df, country_indexed=False):\n",
    "    \"\"\" This function get the name of the columns that contain NaN values\n",
    "        and the number of NaN values in that colum. \"\"\"\n",
    "    cols = pd.DataFrame(df.isna().any(), columns=['hasnan']).reset_index()\n",
    "    cols.columns = ['name', 'hasnan']\n",
    "    cols['number'] = cols['name'].apply(lambda x: df.loc[df[x].isna()].shape[0])\n",
    "    if(country_indexed):\n",
    "        cols['number country'] = cols['name'].apply(lambda x: np.unique(df.loc[df[x].isna()].index).size)\n",
    "    else:\n",
    "        cols['number country'] = cols['name'].apply(lambda x: np.unique(df.loc[df[x].isna()]['Country'].values).size)\n",
    "    nan_columns = cols.loc[cols['number'] > 0]\n",
    "    return nan_columns"
   ]
  },
  {
   "cell_type": "markdown",
   "metadata": {},
   "source": [
    "We first check for the NaN values that we can drop. Here are the columns that contains NaN values."
   ]
  },
  {
   "cell_type": "code",
   "execution_count": 9,
   "metadata": {
    "scrolled": false
   },
   "outputs": [
    {
     "data": {
      "text/html": [
       "<div>\n",
       "<style scoped>\n",
       "    .dataframe tbody tr th:only-of-type {\n",
       "        vertical-align: middle;\n",
       "    }\n",
       "\n",
       "    .dataframe tbody tr th {\n",
       "        vertical-align: top;\n",
       "    }\n",
       "\n",
       "    .dataframe thead th {\n",
       "        text-align: right;\n",
       "    }\n",
       "</style>\n",
       "<table border=\"1\" class=\"dataframe\">\n",
       "  <thead>\n",
       "    <tr style=\"text-align: right;\">\n",
       "      <th></th>\n",
       "      <th>name</th>\n",
       "      <th>hasnan</th>\n",
       "      <th>number</th>\n",
       "      <th>number country</th>\n",
       "    </tr>\n",
       "  </thead>\n",
       "  <tbody>\n",
       "    <tr>\n",
       "      <th>3</th>\n",
       "      <td>Life expectancy</td>\n",
       "      <td>True</td>\n",
       "      <td>10</td>\n",
       "      <td>10</td>\n",
       "    </tr>\n",
       "    <tr>\n",
       "      <th>4</th>\n",
       "      <td>Adult Mortality</td>\n",
       "      <td>True</td>\n",
       "      <td>10</td>\n",
       "      <td>10</td>\n",
       "    </tr>\n",
       "    <tr>\n",
       "      <th>6</th>\n",
       "      <td>Alcohol</td>\n",
       "      <td>True</td>\n",
       "      <td>194</td>\n",
       "      <td>178</td>\n",
       "    </tr>\n",
       "    <tr>\n",
       "      <th>8</th>\n",
       "      <td>Hepatitis B</td>\n",
       "      <td>True</td>\n",
       "      <td>553</td>\n",
       "      <td>98</td>\n",
       "    </tr>\n",
       "    <tr>\n",
       "      <th>10</th>\n",
       "      <td>BMI</td>\n",
       "      <td>True</td>\n",
       "      <td>34</td>\n",
       "      <td>4</td>\n",
       "    </tr>\n",
       "    <tr>\n",
       "      <th>12</th>\n",
       "      <td>Polio</td>\n",
       "      <td>True</td>\n",
       "      <td>19</td>\n",
       "      <td>3</td>\n",
       "    </tr>\n",
       "    <tr>\n",
       "      <th>13</th>\n",
       "      <td>Total expenditure</td>\n",
       "      <td>True</td>\n",
       "      <td>226</td>\n",
       "      <td>181</td>\n",
       "    </tr>\n",
       "    <tr>\n",
       "      <th>14</th>\n",
       "      <td>Diphtheria</td>\n",
       "      <td>True</td>\n",
       "      <td>19</td>\n",
       "      <td>3</td>\n",
       "    </tr>\n",
       "    <tr>\n",
       "      <th>16</th>\n",
       "      <td>GDP</td>\n",
       "      <td>True</td>\n",
       "      <td>448</td>\n",
       "      <td>38</td>\n",
       "    </tr>\n",
       "    <tr>\n",
       "      <th>17</th>\n",
       "      <td>Population</td>\n",
       "      <td>True</td>\n",
       "      <td>652</td>\n",
       "      <td>49</td>\n",
       "    </tr>\n",
       "    <tr>\n",
       "      <th>18</th>\n",
       "      <td>thinness 1-19 years</td>\n",
       "      <td>True</td>\n",
       "      <td>34</td>\n",
       "      <td>4</td>\n",
       "    </tr>\n",
       "    <tr>\n",
       "      <th>19</th>\n",
       "      <td>thinness 5-9 years</td>\n",
       "      <td>True</td>\n",
       "      <td>34</td>\n",
       "      <td>4</td>\n",
       "    </tr>\n",
       "    <tr>\n",
       "      <th>20</th>\n",
       "      <td>Income composition of resources</td>\n",
       "      <td>True</td>\n",
       "      <td>167</td>\n",
       "      <td>17</td>\n",
       "    </tr>\n",
       "    <tr>\n",
       "      <th>21</th>\n",
       "      <td>Schooling</td>\n",
       "      <td>True</td>\n",
       "      <td>163</td>\n",
       "      <td>13</td>\n",
       "    </tr>\n",
       "  </tbody>\n",
       "</table>\n",
       "</div>"
      ],
      "text/plain": [
       "                               name  hasnan  number  number country\n",
       "3                   Life expectancy    True      10              10\n",
       "4                   Adult Mortality    True      10              10\n",
       "6                           Alcohol    True     194             178\n",
       "8                       Hepatitis B    True     553              98\n",
       "10                              BMI    True      34               4\n",
       "12                            Polio    True      19               3\n",
       "13                Total expenditure    True     226             181\n",
       "14                       Diphtheria    True      19               3\n",
       "16                              GDP    True     448              38\n",
       "17                       Population    True     652              49\n",
       "18              thinness 1-19 years    True      34               4\n",
       "19               thinness 5-9 years    True      34               4\n",
       "20  Income composition of resources    True     167              17\n",
       "21                        Schooling    True     163              13"
      ]
     },
     "execution_count": 9,
     "metadata": {},
     "output_type": "execute_result"
    }
   ],
   "source": [
    "# Get the columns that contain NaN values\n",
    "get_nan_columns(life_expectancy_df)"
   ]
  },
  {
   "cell_type": "markdown",
   "metadata": {},
   "source": [
    "We can see that for some features, there is a lot of missing values. To deal with this, we build an averaged dataset where for a given country, we average the rows over the years."
   ]
  },
  {
   "cell_type": "code",
   "execution_count": 10,
   "metadata": {},
   "outputs": [
    {
     "data": {
      "text/html": [
       "<div>\n",
       "<style scoped>\n",
       "    .dataframe tbody tr th:only-of-type {\n",
       "        vertical-align: middle;\n",
       "    }\n",
       "\n",
       "    .dataframe tbody tr th {\n",
       "        vertical-align: top;\n",
       "    }\n",
       "\n",
       "    .dataframe thead th {\n",
       "        text-align: right;\n",
       "    }\n",
       "</style>\n",
       "<table border=\"1\" class=\"dataframe\">\n",
       "  <thead>\n",
       "    <tr style=\"text-align: right;\">\n",
       "      <th></th>\n",
       "      <th>Life expectancy</th>\n",
       "      <th>Adult Mortality</th>\n",
       "      <th>infant deaths</th>\n",
       "      <th>Alcohol</th>\n",
       "      <th>percentage expenditure</th>\n",
       "      <th>Hepatitis B</th>\n",
       "      <th>Measles</th>\n",
       "      <th>BMI</th>\n",
       "      <th>under-five deaths</th>\n",
       "      <th>Polio</th>\n",
       "      <th>...</th>\n",
       "      <th>Diphtheria</th>\n",
       "      <th>HIV/AIDS</th>\n",
       "      <th>GDP</th>\n",
       "      <th>Population</th>\n",
       "      <th>thinness 1-19 years</th>\n",
       "      <th>thinness 5-9 years</th>\n",
       "      <th>Income composition of resources</th>\n",
       "      <th>Schooling</th>\n",
       "      <th>Developed</th>\n",
       "      <th>Developing</th>\n",
       "    </tr>\n",
       "    <tr>\n",
       "      <th>Country</th>\n",
       "      <th></th>\n",
       "      <th></th>\n",
       "      <th></th>\n",
       "      <th></th>\n",
       "      <th></th>\n",
       "      <th></th>\n",
       "      <th></th>\n",
       "      <th></th>\n",
       "      <th></th>\n",
       "      <th></th>\n",
       "      <th></th>\n",
       "      <th></th>\n",
       "      <th></th>\n",
       "      <th></th>\n",
       "      <th></th>\n",
       "      <th></th>\n",
       "      <th></th>\n",
       "      <th></th>\n",
       "      <th></th>\n",
       "      <th></th>\n",
       "      <th></th>\n",
       "    </tr>\n",
       "  </thead>\n",
       "  <tbody>\n",
       "    <tr>\n",
       "      <th>Afghanistan</th>\n",
       "      <td>58.19375</td>\n",
       "      <td>269.0625</td>\n",
       "      <td>78.2500</td>\n",
       "      <td>0.014375</td>\n",
       "      <td>34.960110</td>\n",
       "      <td>64.562500</td>\n",
       "      <td>2362.2500</td>\n",
       "      <td>15.51875</td>\n",
       "      <td>107.5625</td>\n",
       "      <td>48.3750</td>\n",
       "      <td>...</td>\n",
       "      <td>52.3125</td>\n",
       "      <td>0.10000</td>\n",
       "      <td>340.015425</td>\n",
       "      <td>9.972260e+06</td>\n",
       "      <td>16.58125</td>\n",
       "      <td>15.58125</td>\n",
       "      <td>0.415375</td>\n",
       "      <td>8.21250</td>\n",
       "      <td>0</td>\n",
       "      <td>1</td>\n",
       "    </tr>\n",
       "    <tr>\n",
       "      <th>Albania</th>\n",
       "      <td>75.15625</td>\n",
       "      <td>45.0625</td>\n",
       "      <td>0.6875</td>\n",
       "      <td>4.848750</td>\n",
       "      <td>193.259091</td>\n",
       "      <td>98.000000</td>\n",
       "      <td>53.3750</td>\n",
       "      <td>49.06875</td>\n",
       "      <td>0.9375</td>\n",
       "      <td>98.1250</td>\n",
       "      <td>...</td>\n",
       "      <td>98.0625</td>\n",
       "      <td>0.10000</td>\n",
       "      <td>2119.726679</td>\n",
       "      <td>6.969116e+05</td>\n",
       "      <td>1.61875</td>\n",
       "      <td>1.70000</td>\n",
       "      <td>0.709875</td>\n",
       "      <td>12.13750</td>\n",
       "      <td>0</td>\n",
       "      <td>1</td>\n",
       "    </tr>\n",
       "    <tr>\n",
       "      <th>Algeria</th>\n",
       "      <td>73.61875</td>\n",
       "      <td>108.1875</td>\n",
       "      <td>20.3125</td>\n",
       "      <td>0.406667</td>\n",
       "      <td>236.185241</td>\n",
       "      <td>78.000000</td>\n",
       "      <td>1943.8750</td>\n",
       "      <td>48.74375</td>\n",
       "      <td>23.5000</td>\n",
       "      <td>91.7500</td>\n",
       "      <td>...</td>\n",
       "      <td>91.8750</td>\n",
       "      <td>0.10000</td>\n",
       "      <td>2847.853392</td>\n",
       "      <td>2.164983e+07</td>\n",
       "      <td>6.09375</td>\n",
       "      <td>5.97500</td>\n",
       "      <td>0.694875</td>\n",
       "      <td>12.71250</td>\n",
       "      <td>0</td>\n",
       "      <td>1</td>\n",
       "    </tr>\n",
       "    <tr>\n",
       "      <th>Angola</th>\n",
       "      <td>49.01875</td>\n",
       "      <td>328.5625</td>\n",
       "      <td>83.7500</td>\n",
       "      <td>5.740667</td>\n",
       "      <td>102.100268</td>\n",
       "      <td>70.222222</td>\n",
       "      <td>3561.3125</td>\n",
       "      <td>18.01875</td>\n",
       "      <td>132.6250</td>\n",
       "      <td>46.1250</td>\n",
       "      <td>...</td>\n",
       "      <td>47.6875</td>\n",
       "      <td>2.36875</td>\n",
       "      <td>1975.143045</td>\n",
       "      <td>1.014710e+07</td>\n",
       "      <td>6.19375</td>\n",
       "      <td>6.66875</td>\n",
       "      <td>0.458375</td>\n",
       "      <td>8.04375</td>\n",
       "      <td>0</td>\n",
       "      <td>1</td>\n",
       "    </tr>\n",
       "    <tr>\n",
       "      <th>Antigua and Barbuda</th>\n",
       "      <td>75.05625</td>\n",
       "      <td>127.5000</td>\n",
       "      <td>0.0000</td>\n",
       "      <td>7.949333</td>\n",
       "      <td>1001.585226</td>\n",
       "      <td>98.266667</td>\n",
       "      <td>0.0000</td>\n",
       "      <td>38.42500</td>\n",
       "      <td>0.0000</td>\n",
       "      <td>96.9375</td>\n",
       "      <td>...</td>\n",
       "      <td>98.3125</td>\n",
       "      <td>0.12500</td>\n",
       "      <td>9759.305728</td>\n",
       "      <td>NaN</td>\n",
       "      <td>3.42500</td>\n",
       "      <td>3.37500</td>\n",
       "      <td>0.488625</td>\n",
       "      <td>8.84375</td>\n",
       "      <td>0</td>\n",
       "      <td>1</td>\n",
       "    </tr>\n",
       "  </tbody>\n",
       "</table>\n",
       "<p>5 rows × 21 columns</p>\n",
       "</div>"
      ],
      "text/plain": [
       "                     Life expectancy  Adult Mortality  infant deaths  \\\n",
       "Country                                                                \n",
       "Afghanistan                 58.19375         269.0625        78.2500   \n",
       "Albania                     75.15625          45.0625         0.6875   \n",
       "Algeria                     73.61875         108.1875        20.3125   \n",
       "Angola                      49.01875         328.5625        83.7500   \n",
       "Antigua and Barbuda         75.05625         127.5000         0.0000   \n",
       "\n",
       "                      Alcohol  percentage expenditure  Hepatitis B    Measles  \\\n",
       "Country                                                                         \n",
       "Afghanistan          0.014375               34.960110    64.562500  2362.2500   \n",
       "Albania              4.848750              193.259091    98.000000    53.3750   \n",
       "Algeria              0.406667              236.185241    78.000000  1943.8750   \n",
       "Angola               5.740667              102.100268    70.222222  3561.3125   \n",
       "Antigua and Barbuda  7.949333             1001.585226    98.266667     0.0000   \n",
       "\n",
       "                          BMI  under-five deaths    Polio     ...      \\\n",
       "Country                                                       ...       \n",
       "Afghanistan          15.51875           107.5625  48.3750     ...       \n",
       "Albania              49.06875             0.9375  98.1250     ...       \n",
       "Algeria              48.74375            23.5000  91.7500     ...       \n",
       "Angola               18.01875           132.6250  46.1250     ...       \n",
       "Antigua and Barbuda  38.42500             0.0000  96.9375     ...       \n",
       "\n",
       "                     Diphtheria  HIV/AIDS          GDP    Population  \\\n",
       "Country                                                                \n",
       "Afghanistan             52.3125   0.10000   340.015425  9.972260e+06   \n",
       "Albania                 98.0625   0.10000  2119.726679  6.969116e+05   \n",
       "Algeria                 91.8750   0.10000  2847.853392  2.164983e+07   \n",
       "Angola                  47.6875   2.36875  1975.143045  1.014710e+07   \n",
       "Antigua and Barbuda     98.3125   0.12500  9759.305728           NaN   \n",
       "\n",
       "                     thinness 1-19 years  thinness 5-9 years  \\\n",
       "Country                                                        \n",
       "Afghanistan                     16.58125            15.58125   \n",
       "Albania                          1.61875             1.70000   \n",
       "Algeria                          6.09375             5.97500   \n",
       "Angola                           6.19375             6.66875   \n",
       "Antigua and Barbuda              3.42500             3.37500   \n",
       "\n",
       "                     Income composition of resources  Schooling  Developed  \\\n",
       "Country                                                                      \n",
       "Afghanistan                                 0.415375    8.21250          0   \n",
       "Albania                                     0.709875   12.13750          0   \n",
       "Algeria                                     0.694875   12.71250          0   \n",
       "Angola                                      0.458375    8.04375          0   \n",
       "Antigua and Barbuda                         0.488625    8.84375          0   \n",
       "\n",
       "                     Developing  \n",
       "Country                          \n",
       "Afghanistan                   1  \n",
       "Albania                       1  \n",
       "Algeria                       1  \n",
       "Angola                        1  \n",
       "Antigua and Barbuda           1  \n",
       "\n",
       "[5 rows x 21 columns]"
      ]
     },
     "execution_count": 10,
     "metadata": {},
     "output_type": "execute_result"
    }
   ],
   "source": [
    "# For each country we average the values over the years\n",
    "life_expectancy_df_av = life_expectancy_df.groupby(['Country']).mean().drop('Year', axis=1)\n",
    "# Add back the column 'Status' that has been deleted by the groupby function\n",
    "life_expectancy_df_av['Status'] = life_expectancy_df[life_expectancy_df['Year'] == 2015].set_index('Country')[['Status']]\n",
    "# We one hot encode the column 'Status' and rename columns\n",
    "life_expectancy_df_av = pd.get_dummies(life_expectancy_df_av)\n",
    "life_expectancy_df_av.rename(columns={'Status_Developed':'Developed',\n",
    "                                      'Status_Developing': 'Developing'}, inplace=True)\n",
    "# Show the result\n",
    "life_expectancy_df_av.head()"
   ]
  },
  {
   "cell_type": "markdown",
   "metadata": {},
   "source": [
    "We now check for the observations that still contain NaN values and see how we could deal with it."
   ]
  },
  {
   "cell_type": "code",
   "execution_count": 11,
   "metadata": {},
   "outputs": [
    {
     "data": {
      "text/html": [
       "<div>\n",
       "<style scoped>\n",
       "    .dataframe tbody tr th:only-of-type {\n",
       "        vertical-align: middle;\n",
       "    }\n",
       "\n",
       "    .dataframe tbody tr th {\n",
       "        vertical-align: top;\n",
       "    }\n",
       "\n",
       "    .dataframe thead th {\n",
       "        text-align: right;\n",
       "    }\n",
       "</style>\n",
       "<table border=\"1\" class=\"dataframe\">\n",
       "  <thead>\n",
       "    <tr style=\"text-align: right;\">\n",
       "      <th></th>\n",
       "      <th>name</th>\n",
       "      <th>hasnan</th>\n",
       "      <th>number</th>\n",
       "      <th>number country</th>\n",
       "    </tr>\n",
       "  </thead>\n",
       "  <tbody>\n",
       "    <tr>\n",
       "      <th>0</th>\n",
       "      <td>Life expectancy</td>\n",
       "      <td>True</td>\n",
       "      <td>10</td>\n",
       "      <td>10</td>\n",
       "    </tr>\n",
       "    <tr>\n",
       "      <th>1</th>\n",
       "      <td>Adult Mortality</td>\n",
       "      <td>True</td>\n",
       "      <td>10</td>\n",
       "      <td>10</td>\n",
       "    </tr>\n",
       "    <tr>\n",
       "      <th>3</th>\n",
       "      <td>Alcohol</td>\n",
       "      <td>True</td>\n",
       "      <td>2</td>\n",
       "      <td>2</td>\n",
       "    </tr>\n",
       "    <tr>\n",
       "      <th>5</th>\n",
       "      <td>Hepatitis B</td>\n",
       "      <td>True</td>\n",
       "      <td>9</td>\n",
       "      <td>9</td>\n",
       "    </tr>\n",
       "    <tr>\n",
       "      <th>7</th>\n",
       "      <td>BMI</td>\n",
       "      <td>True</td>\n",
       "      <td>4</td>\n",
       "      <td>4</td>\n",
       "    </tr>\n",
       "    <tr>\n",
       "      <th>10</th>\n",
       "      <td>Total expenditure</td>\n",
       "      <td>True</td>\n",
       "      <td>2</td>\n",
       "      <td>2</td>\n",
       "    </tr>\n",
       "    <tr>\n",
       "      <th>13</th>\n",
       "      <td>GDP</td>\n",
       "      <td>True</td>\n",
       "      <td>30</td>\n",
       "      <td>30</td>\n",
       "    </tr>\n",
       "    <tr>\n",
       "      <th>14</th>\n",
       "      <td>Population</td>\n",
       "      <td>True</td>\n",
       "      <td>48</td>\n",
       "      <td>48</td>\n",
       "    </tr>\n",
       "    <tr>\n",
       "      <th>15</th>\n",
       "      <td>thinness 1-19 years</td>\n",
       "      <td>True</td>\n",
       "      <td>4</td>\n",
       "      <td>4</td>\n",
       "    </tr>\n",
       "    <tr>\n",
       "      <th>16</th>\n",
       "      <td>thinness 5-9 years</td>\n",
       "      <td>True</td>\n",
       "      <td>4</td>\n",
       "      <td>4</td>\n",
       "    </tr>\n",
       "    <tr>\n",
       "      <th>17</th>\n",
       "      <td>Income composition of resources</td>\n",
       "      <td>True</td>\n",
       "      <td>17</td>\n",
       "      <td>17</td>\n",
       "    </tr>\n",
       "    <tr>\n",
       "      <th>18</th>\n",
       "      <td>Schooling</td>\n",
       "      <td>True</td>\n",
       "      <td>13</td>\n",
       "      <td>13</td>\n",
       "    </tr>\n",
       "  </tbody>\n",
       "</table>\n",
       "</div>"
      ],
      "text/plain": [
       "                               name  hasnan  number  number country\n",
       "0                   Life expectancy    True      10              10\n",
       "1                   Adult Mortality    True      10              10\n",
       "3                           Alcohol    True       2               2\n",
       "5                       Hepatitis B    True       9               9\n",
       "7                               BMI    True       4               4\n",
       "10                Total expenditure    True       2               2\n",
       "13                              GDP    True      30              30\n",
       "14                       Population    True      48              48\n",
       "15              thinness 1-19 years    True       4               4\n",
       "16               thinness 5-9 years    True       4               4\n",
       "17  Income composition of resources    True      17              17\n",
       "18                        Schooling    True      13              13"
      ]
     },
     "execution_count": 11,
     "metadata": {},
     "output_type": "execute_result"
    }
   ],
   "source": [
    "# Get the columns that still contain NaN values\n",
    "get_nan_columns(life_expectancy_df_av, country_indexed=True)"
   ]
  },
  {
   "cell_type": "markdown",
   "metadata": {},
   "source": [
    "#### Life expectancy"
   ]
  },
  {
   "cell_type": "markdown",
   "metadata": {},
   "source": [
    "We start with 'Life expectancy'. We can see that for most of them, they are Island. So we can drop this observations since they won't be that relevant for the rest of the analysis. For Monaco and San Marino, we replace the missing values by those of France and Italia."
   ]
  },
  {
   "cell_type": "code",
   "execution_count": 12,
   "metadata": {},
   "outputs": [
    {
     "data": {
      "text/plain": [
       "Index(['Cook Islands', 'Dominica', 'Marshall Islands', 'Monaco', 'Nauru',\n",
       "       'Niue', 'Palau', 'Saint Kitts and Nevis', 'San Marino', 'Tuvalu'],\n",
       "      dtype='object', name='Country')"
      ]
     },
     "execution_count": 12,
     "metadata": {},
     "output_type": "execute_result"
    }
   ],
   "source": [
    "# Get the countries for which 'Life expectancy' is a NaN value\n",
    "le_nan = life_expectancy_df_av.loc[life_expectancy_df_av['Life expectancy'].isna()].index\n",
    "le_nan"
   ]
  },
  {
   "cell_type": "code",
   "execution_count": 13,
   "metadata": {},
   "outputs": [],
   "source": [
    "# Update the list of countries to drop\n",
    "le_drop = le_nan.drop(['Monaco', 'San Marino'])\n",
    "# Drop those countries\n",
    "life_expectancy_df_av = life_expectancy_df_av.drop(le_drop)\n",
    "# Replace the remaining NaN values\n",
    "life_expectancy_df_av.at['Monaco', 'Life expectancy'] = life_expectancy_df_av.loc['France']['Life expectancy']\n",
    "life_expectancy_df_av.at['San Marino', 'Life expectancy'] = life_expectancy_df_av.loc['Italy']['Life expectancy']"
   ]
  },
  {
   "cell_type": "markdown",
   "metadata": {},
   "source": [
    "#### Adult Mortality"
   ]
  },
  {
   "cell_type": "markdown",
   "metadata": {
    "collapsed": true
   },
   "source": [
    "We do the same for 'Adult Mortality', and apply the same reasonning as above for Monaca and San Marino."
   ]
  },
  {
   "cell_type": "code",
   "execution_count": 14,
   "metadata": {},
   "outputs": [
    {
     "data": {
      "text/plain": [
       "Index(['Monaco', 'San Marino'], dtype='object', name='Country')"
      ]
     },
     "execution_count": 14,
     "metadata": {},
     "output_type": "execute_result"
    }
   ],
   "source": [
    "# Get the countries for which 'Adult Mortality' is a NaN value\n",
    "am_nan = life_expectancy_df_av.loc[life_expectancy_df_av['Adult Mortality'].isna()].index\n",
    "am_nan"
   ]
  },
  {
   "cell_type": "code",
   "execution_count": 15,
   "metadata": {},
   "outputs": [],
   "source": [
    "# Replace the remaining NaN values\n",
    "life_expectancy_df_av.at['Monaco', 'Adult Mortality'] = life_expectancy_df_av.loc['France']['Adult Mortality']\n",
    "life_expectancy_df_av.at['San Marino', 'Adult Mortality'] = life_expectancy_df_av.loc['Italy']['Adult Mortality']"
   ]
  },
  {
   "cell_type": "markdown",
   "metadata": {},
   "source": [
    "#### Alcohol"
   ]
  },
  {
   "cell_type": "markdown",
   "metadata": {},
   "source": [
    "For 'Alcohol' we only have Souht Sudan that does not have any valid value. Thus we replace the value by the one of the following article (http://hotinjuba.com/ranks-south-sudan-drunkest-country-africa/) which is about 11L."
   ]
  },
  {
   "cell_type": "code",
   "execution_count": 16,
   "metadata": {},
   "outputs": [
    {
     "data": {
      "text/plain": [
       "Index(['South Sudan'], dtype='object', name='Country')"
      ]
     },
     "execution_count": 16,
     "metadata": {},
     "output_type": "execute_result"
    }
   ],
   "source": [
    "# Get the countries for which 'Alcohol' is a NaN value\n",
    "alc_nan = life_expectancy_df_av.loc[life_expectancy_df_av['Alcohol'].isna()].index\n",
    "alc_nan"
   ]
  },
  {
   "cell_type": "code",
   "execution_count": 17,
   "metadata": {},
   "outputs": [],
   "source": [
    "# Replace the NaN value\n",
    "life_expectancy_df_av.at['South Sudan', 'Alcohol'] = 11"
   ]
  },
  {
   "cell_type": "markdown",
   "metadata": {},
   "source": [
    "#### Hepatitis B"
   ]
  },
  {
   "cell_type": "markdown",
   "metadata": {},
   "source": [
    "Little research tells us that Denmark, Finland, Iceland, Norway, Sweden and United Kingdom do not deal with hepatitis B as it is a very limited public health problem. We will then replace the Nan value with a tenth of the minimum value (we will do the same for Switzerland). For Japan and Slovania we will put in the average value."
   ]
  },
  {
   "cell_type": "code",
   "execution_count": 18,
   "metadata": {},
   "outputs": [
    {
     "data": {
      "text/plain": [
       "Index(['Denmark', 'Finland', 'Hungary', 'Iceland', 'Japan', 'Norway',\n",
       "       'Slovenia', 'Switzerland',\n",
       "       'United Kingdom of Great Britain and Northern Ireland'],\n",
       "      dtype='object', name='Country')"
      ]
     },
     "execution_count": 18,
     "metadata": {},
     "output_type": "execute_result"
    }
   ],
   "source": [
    "# Get the countries for which 'Hepatitis B' is a NaN value\n",
    "hb_nan = life_expectancy_df_av.loc[life_expectancy_df_av['Hepatitis B'].isna()].index\n",
    "hb_nan"
   ]
  },
  {
   "cell_type": "code",
   "execution_count": 19,
   "metadata": {},
   "outputs": [],
   "source": [
    "# Define the average and the minimum of 'Hepatitis B'\n",
    "mean_hepatitis_B = np.mean(life_expectancy_df_av['Hepatitis B'])\n",
    "min_hepatitis_B = np.min(life_expectancy_df_av['Hepatitis B'])"
   ]
  },
  {
   "cell_type": "code",
   "execution_count": 20,
   "metadata": {},
   "outputs": [],
   "source": [
    "# Define dictionaries to replace NaN values\n",
    "value_min = {'Hepatitis B': min_hepatitis_B/10}\n",
    "value_mean = {'Hepatitis B': mean_hepatitis_B}\n",
    "# Define list of countries where NaN values have to be replaced\n",
    "coutries_min = ['Denmark', 'Finland', 'Hungary', 'Iceland', 'Norway', 'Switzerland',\n",
    "                'United Kingdom of Great Britain and Northern Ireland']\n",
    "coutries_mean = ['Japan', 'Slovenia']\n",
    "life_expectancy_df_av.loc[coutries_min] = life_expectancy_df_av.loc[coutries_min].fillna(value=value_min)\n",
    "life_expectancy_df_av.loc[coutries_mean] = life_expectancy_df_av.loc[coutries_mean].fillna(value=value_mean)"
   ]
  },
  {
   "cell_type": "markdown",
   "metadata": {},
   "source": [
    "#### BMI"
   ]
  },
  {
   "cell_type": "markdown",
   "metadata": {},
   "source": [
    "For 'BMI' of Sudan and South Sudan, we modify the two NaN values of BMI accoding to the value found here: http://gamapserver.who.int/gho/interactive_charts/ncd/risk_factors/bmi/atlas.html, and for 'BMI' of Monaco and San Marino, we replace them by the values of France and Italy respectively."
   ]
  },
  {
   "cell_type": "code",
   "execution_count": 21,
   "metadata": {},
   "outputs": [
    {
     "data": {
      "text/plain": [
       "Index(['Monaco', 'San Marino', 'South Sudan', 'Sudan'], dtype='object', name='Country')"
      ]
     },
     "execution_count": 21,
     "metadata": {},
     "output_type": "execute_result"
    }
   ],
   "source": [
    "# Get the countries for which 'BMI' is a NaN value\n",
    "bmi_nan = life_expectancy_df_av.loc[life_expectancy_df_av['BMI'].isna()].index\n",
    "bmi_nan"
   ]
  },
  {
   "cell_type": "code",
   "execution_count": 22,
   "metadata": {},
   "outputs": [],
   "source": [
    "# Replace the NaN values\n",
    "life_expectancy_df_av.at['Monaco', 'BMI'] = life_expectancy_df_av.loc['France']['BMI']\n",
    "life_expectancy_df_av.at['San Marino', 'BMI'] = life_expectancy_df_av.loc['Italy']['BMI']\n",
    "life_expectancy_df_av.at['South Sudan', 'BMI'] = 24.7\n",
    "life_expectancy_df_av.at['Sudan', 'BMI'] = 24.7"
   ]
  },
  {
   "cell_type": "markdown",
   "metadata": {},
   "source": [
    "#### Total expenditure"
   ]
  },
  {
   "cell_type": "markdown",
   "metadata": {},
   "source": [
    "For the 'Total expenditure' NaN value of Somalia we replace it with 2.7 (https://www.who.int/whr/2004/annex/country/som/en/). Some research (https://www.refworld.org/pdfid/4c3ead302.pdf) tell us that for North Korea it is one of the lowest on earth. We will therefore put the minimum value divided by two, we consider it is a good approximation."
   ]
  },
  {
   "cell_type": "code",
   "execution_count": 23,
   "metadata": {},
   "outputs": [
    {
     "data": {
      "text/plain": [
       "Index(['Democratic People's Republic of Korea', 'Somalia'], dtype='object', name='Country')"
      ]
     },
     "execution_count": 23,
     "metadata": {},
     "output_type": "execute_result"
    }
   ],
   "source": [
    "# Get the countries for which 'Total expenditure' is a NaN value\n",
    "te_nan = life_expectancy_df_av.loc[life_expectancy_df_av['Total expenditure'].isna()].index\n",
    "te_nan"
   ]
  },
  {
   "cell_type": "code",
   "execution_count": 24,
   "metadata": {},
   "outputs": [],
   "source": [
    "# Define the minimum expenditure divided by 2\n",
    "min_expenditure = np.min(life_expectancy_df_av['Total expenditure'])/2\n",
    "# Replace de NaN values\n",
    "life_expectancy_df_av.at['Somalia', 'Total expenditure'] = 2.7\n",
    "life_expectancy_df_av.at['Democratic People\\'s Republic of Korea', 'Total expenditure'] = min_expenditure"
   ]
  },
  {
   "cell_type": "markdown",
   "metadata": {},
   "source": [
    "#### GDP"
   ]
  },
  {
   "cell_type": "markdown",
   "metadata": {},
   "source": [
    "We have 27 missing values for the GDP, we easily search those values and replace them."
   ]
  },
  {
   "cell_type": "code",
   "execution_count": 25,
   "metadata": {},
   "outputs": [
    {
     "data": {
      "text/plain": [
       "Index(['Bahamas', 'Bolivia (Plurinational State of)', 'Congo', 'Czechia',\n",
       "       'Côte d'Ivoire', 'Democratic People's Republic of Korea',\n",
       "       'Democratic Republic of the Congo', 'Egypt', 'Gambia',\n",
       "       'Iran (Islamic Republic of)', 'Kyrgyzstan',\n",
       "       'Lao People's Democratic Republic', 'Micronesia (Federated States of)',\n",
       "       'Monaco', 'Republic of Korea', 'Republic of Moldova', 'Saint Lucia',\n",
       "       'Saint Vincent and the Grenadines', 'San Marino', 'Slovakia',\n",
       "       'The former Yugoslav republic of Macedonia',\n",
       "       'United Kingdom of Great Britain and Northern Ireland',\n",
       "       'United Republic of Tanzania', 'United States of America',\n",
       "       'Venezuela (Bolivarian Republic of)', 'Viet Nam', 'Yemen'],\n",
       "      dtype='object', name='Country')"
      ]
     },
     "execution_count": 25,
     "metadata": {},
     "output_type": "execute_result"
    }
   ],
   "source": [
    "# Get the countries for which 'GDP' is a NaN value\n",
    "gdp_nan = life_expectancy_df_av.loc[life_expectancy_df_av['GDP'].isna()].index\n",
    "gdp_nan"
   ]
  },
  {
   "cell_type": "code",
   "execution_count": 26,
   "metadata": {},
   "outputs": [],
   "source": [
    "# Replace the NaN values\n",
    "gdp_values = [25100, 7500, 6700, 35200, 3900, 1700, 800, 13000, 1700, 20000, 3700, 7400, 3400, 115700,\n",
    "              39400, 5700, 13500, 11600, 59500, 32900, 15200, 43600, 3300, 59500, 12400, 6900, 2300]\n",
    "life_expectancy_df_av.at[gdp_nan, 'GDP'] = gdp_values"
   ]
  },
  {
   "cell_type": "markdown",
   "metadata": {},
   "source": [
    "#### Population"
   ]
  },
  {
   "cell_type": "markdown",
   "metadata": {},
   "source": [
    "For 'Population' NaN values, we complete easily those values with https://www.populationdata.net/palmares/population/#Antigua-et-Barbuda"
   ]
  },
  {
   "cell_type": "code",
   "execution_count": 27,
   "metadata": {},
   "outputs": [
    {
     "data": {
      "text/plain": [
       "Index(['Antigua and Barbuda', 'Bahamas', 'Bahrain', 'Barbados',\n",
       "       'Bolivia (Plurinational State of)', 'Brunei Darussalam', 'Congo',\n",
       "       'Cuba', 'Czechia', 'Côte d'Ivoire',\n",
       "       'Democratic People's Republic of Korea',\n",
       "       'Democratic Republic of the Congo', 'Egypt', 'Gambia', 'Grenada',\n",
       "       'Iran (Islamic Republic of)', 'Kuwait', 'Kyrgyzstan',\n",
       "       'Lao People's Democratic Republic', 'Libya',\n",
       "       'Micronesia (Federated States of)', 'Monaco', 'New Zealand', 'Oman',\n",
       "       'Qatar', 'Republic of Korea', 'Republic of Moldova', 'Saint Lucia',\n",
       "       'Saint Vincent and the Grenadines', 'San Marino', 'Saudi Arabia',\n",
       "       'Singapore', 'Slovakia', 'Somalia',\n",
       "       'The former Yugoslav republic of Macedonia', 'United Arab Emirates',\n",
       "       'United Kingdom of Great Britain and Northern Ireland',\n",
       "       'United Republic of Tanzania', 'United States of America',\n",
       "       'Venezuela (Bolivarian Republic of)', 'Viet Nam', 'Yemen'],\n",
       "      dtype='object', name='Country')"
      ]
     },
     "execution_count": 27,
     "metadata": {},
     "output_type": "execute_result"
    }
   ],
   "source": [
    "# Get the countries for which 'Population' is a NaN value\n",
    "pop_nan = life_expectancy_df_av.loc[life_expectancy_df_av['Population'].isna()].index\n",
    "pop_nan"
   ]
  },
  {
   "cell_type": "code",
   "execution_count": 28,
   "metadata": {},
   "outputs": [],
   "source": [
    "# Replace the NaN values\n",
    "pop_values = [104084, 403095, 1637896, 287010, 11379861, 439336, 5542197, 11492046, 10630589, 25531083, 25727408,\n",
    "              86727573, 101168745, 2228075, 108825, 82820766, 4248974, 6218616, 7064242, 6569864, 106983, 39102,\n",
    "              4792409, 5001875, 2743901, 51339238, 4029750, 180454, 110488, 33683, 34140662, 5868104, 5450987,\n",
    "              15636171, 2086720, 9682088, 66959016, 60913557, 329093110, 32779868, 97429061, 29579986] \n",
    "life_expectancy_df_av.at[pop_nan, 'Population'] = pop_values"
   ]
  },
  {
   "cell_type": "markdown",
   "metadata": {},
   "source": [
    "#### Thinness"
   ]
  },
  {
   "cell_type": "markdown",
   "metadata": {},
   "source": [
    "We have four NaN values for thinness. To replace those of Sudan and South Sudan we use the following article to fill them (also for thinness 1-19): https://academic.oup.com/tropej/article/61/4/260/1633520. And to replace those of Monaco and San Marino, we use the same reasoning as above by taking the values of France and Italy respectively."
   ]
  },
  {
   "cell_type": "code",
   "execution_count": 29,
   "metadata": {},
   "outputs": [
    {
     "data": {
      "text/plain": [
       "Index(['Monaco', 'San Marino', 'South Sudan', 'Sudan'], dtype='object', name='Country')"
      ]
     },
     "execution_count": 29,
     "metadata": {},
     "output_type": "execute_result"
    }
   ],
   "source": [
    "# Get the countries for which 'thinness 5-9 years' is a NaN value\n",
    "th1_nan = life_expectancy_df_av.loc[life_expectancy_df_av['thinness 5-9 years'].isna()].index\n",
    "th1_nan"
   ]
  },
  {
   "cell_type": "code",
   "execution_count": 30,
   "metadata": {},
   "outputs": [],
   "source": [
    "# Replace the values\n",
    "life_expectancy_df_av.at['Monaco', 'thinness 5-9 years'] = life_expectancy_df_av.loc['France']['thinness 5-9 years']\n",
    "life_expectancy_df_av.at['San Marino', 'thinness 5-9 years'] = life_expectancy_df_av.loc['Italy']['thinness 5-9 years']\n",
    "life_expectancy_df_av.at['South Sudan', 'thinness 5-9 years'] = 21.6\n",
    "life_expectancy_df_av.at['Sudan', 'thinness 5-9 years'] = 21.6"
   ]
  },
  {
   "cell_type": "code",
   "execution_count": 31,
   "metadata": {},
   "outputs": [
    {
     "data": {
      "text/plain": [
       "Index(['Monaco', 'San Marino', 'South Sudan', 'Sudan'], dtype='object', name='Country')"
      ]
     },
     "execution_count": 31,
     "metadata": {},
     "output_type": "execute_result"
    }
   ],
   "source": [
    "# Get the countries for which 'thinness 5-9 years' is a NaN value\n",
    "th2_nan = life_expectancy_df_av.loc[life_expectancy_df_av['thinness 1-19 years'].isna()].index\n",
    "th2_nan"
   ]
  },
  {
   "cell_type": "code",
   "execution_count": 32,
   "metadata": {},
   "outputs": [],
   "source": [
    "# Replace the values\n",
    "life_expectancy_df_av.at['Monaco', 'thinness 1-19 years'] = life_expectancy_df_av.loc['France']['thinness 1-19 years']\n",
    "life_expectancy_df_av.at['San Marino', 'thinness 1-19 years'] = life_expectancy_df_av.loc['Italy']['thinness 1-19 years']\n",
    "life_expectancy_df_av.at['South Sudan', 'thinness 1-19 years'] = 24.6\n",
    "life_expectancy_df_av.at['Sudan', 'thinness 1-19 years'] = 24.6"
   ]
  },
  {
   "cell_type": "markdown",
   "metadata": {},
   "source": [
    "#### Income composition of resources and Schooling"
   ]
  },
  {
   "cell_type": "markdown",
   "metadata": {},
   "source": [
    "For the NaN values of 'Income composition of resource' and 'Schooling', we will need to do a linear regression to predict the missing values, since we cannot find this values anywhere else."
   ]
  },
  {
   "cell_type": "code",
   "execution_count": 33,
   "metadata": {},
   "outputs": [
    {
     "data": {
      "text/plain": [
       "Index(['Czechia', 'Côte d'Ivoire', 'Democratic People's Republic of Korea',\n",
       "       'Democratic Republic of the Congo', 'Monaco', 'Republic of Korea',\n",
       "       'Republic of Moldova', 'San Marino', 'Somalia',\n",
       "       'United Kingdom of Great Britain and Northern Ireland',\n",
       "       'United Republic of Tanzania', 'United States of America'],\n",
       "      dtype='object', name='Country')"
      ]
     },
     "execution_count": 33,
     "metadata": {},
     "output_type": "execute_result"
    }
   ],
   "source": [
    "# Get the countries for which 'Income composition of resources' is a NaN value\n",
    "icr_nan = life_expectancy_df_av.loc[life_expectancy_df_av['Income composition of resources'].isna()].index\n",
    "icr_nan"
   ]
  },
  {
   "cell_type": "code",
   "execution_count": 34,
   "metadata": {},
   "outputs": [
    {
     "data": {
      "text/plain": [
       "Index(['Czechia', 'Côte d'Ivoire', 'Democratic People's Republic of Korea',\n",
       "       'Democratic Republic of the Congo', 'Monaco', 'Republic of Korea',\n",
       "       'Republic of Moldova', 'Somalia',\n",
       "       'United Kingdom of Great Britain and Northern Ireland',\n",
       "       'United Republic of Tanzania', 'United States of America'],\n",
       "      dtype='object', name='Country')"
      ]
     },
     "execution_count": 34,
     "metadata": {},
     "output_type": "execute_result"
    }
   ],
   "source": [
    "# Get the countries for which 'Schooling' is a NaN value\n",
    "sch_nan = life_expectancy_df_av.loc[life_expectancy_df_av['Schooling'].isna()].index\n",
    "sch_nan"
   ]
  },
  {
   "cell_type": "markdown",
   "metadata": {},
   "source": [
    "We start with the regression for 'Income composition of resources' "
   ]
  },
  {
   "cell_type": "code",
   "execution_count": 35,
   "metadata": {},
   "outputs": [],
   "source": [
    "# Define the valid features for the regression\n",
    "X_icr = life_expectancy_df_av.drop(['Income composition of resources', 'Schooling'], axis=1).drop(icr_nan, axis=0)\n",
    "# Define the features needed to predict the missing values\n",
    "x_pred_icr = life_expectancy_df_av.drop(['Income composition of resources', 'Schooling'], axis=1).loc[icr_nan]\n",
    "# Define the valid predictions for the regression\n",
    "y_icr = life_expectancy_df_av.drop(icr_nan, axis=0)['Income composition of resources']"
   ]
  },
  {
   "cell_type": "code",
   "execution_count": 36,
   "metadata": {},
   "outputs": [],
   "source": [
    "# Create the model to predict 'Income composition of resources'\n",
    "lin_reg_icr = LinearRegression()\n",
    "lin_reg_icr.fit(X_icr, y_icr)\n",
    "y_pred_icr = lin_reg_icr.predict(x_pred_icr)"
   ]
  },
  {
   "cell_type": "code",
   "execution_count": 37,
   "metadata": {},
   "outputs": [],
   "source": [
    "# Put back the values in the dataset\n",
    "life_expectancy_df_av.at[icr_nan, 'Income composition of resources'] = y_pred_icr"
   ]
  },
  {
   "cell_type": "markdown",
   "metadata": {},
   "source": [
    "Then we do the regression for 'Schooling'"
   ]
  },
  {
   "cell_type": "code",
   "execution_count": 38,
   "metadata": {},
   "outputs": [],
   "source": [
    "# Define the valid features for the regression\n",
    "X_sch = life_expectancy_df_av.drop(['Income composition of resources', 'Schooling'], axis=1).drop(sch_nan, axis=0)\n",
    "# Define the features needed to predict the missing values\n",
    "x_pred_sch = life_expectancy_df_av.drop(['Income composition of resources', 'Schooling'], axis=1).loc[sch_nan]\n",
    "# Define the valid predictions for the regression\n",
    "y_sch = life_expectancy_df_av.drop(sch_nan, axis=0)['Schooling']"
   ]
  },
  {
   "cell_type": "code",
   "execution_count": 39,
   "metadata": {},
   "outputs": [],
   "source": [
    "# Create the model to predict 'Income composition of resources'\n",
    "lin_reg_sch = LinearRegression()\n",
    "lin_reg_sch.fit(X_sch, y_sch)\n",
    "y_pred_sch = lin_reg_sch.predict(x_pred_sch)"
   ]
  },
  {
   "cell_type": "code",
   "execution_count": 40,
   "metadata": {},
   "outputs": [],
   "source": [
    "# Put back the values in the dataset\n",
    "life_expectancy_df_av.at[sch_nan, 'Schooling'] = y_pred_sch"
   ]
  },
  {
   "cell_type": "markdown",
   "metadata": {},
   "source": [
    "### Add features"
   ]
  },
  {
   "cell_type": "markdown",
   "metadata": {},
   "source": [
    "Now that the dataset looks clean, we will add a feature, namely the continent to which each country belongs. To do that we downloaded a dataset and we join it to our previous dataset."
   ]
  },
  {
   "cell_type": "code",
   "execution_count": 41,
   "metadata": {},
   "outputs": [],
   "source": [
    "# Load the continent dataset and keep only relevant features\n",
    "continent_df = pd.read_csv('Data/country-codes.csv')\n",
    "continent_df = continent_df[['official_name_en', 'Region Name']]\n",
    "continent_df.rename(columns={'official_name_en': 'Country',\n",
    "                             'Region Name': 'Continent'}, inplace=True)\n",
    "continent_df['Continent'] = continent_df.Continent.apply(lambda x: 'America' if x=='Americas' else x)\n",
    "continent_df.set_index('Country', inplace=True)"
   ]
  },
  {
   "cell_type": "code",
   "execution_count": 42,
   "metadata": {},
   "outputs": [],
   "source": [
    "# Join both dataset on coutry name\n",
    "life_expectancy = life_expectancy_df_av.join(continent_df)"
   ]
  },
  {
   "cell_type": "code",
   "execution_count": 43,
   "metadata": {},
   "outputs": [
    {
     "data": {
      "text/plain": [
       "Index(['The former Yugoslav republic of Macedonia'], dtype='object', name='Country')"
      ]
     },
     "execution_count": 43,
     "metadata": {},
     "output_type": "execute_result"
    }
   ],
   "source": [
    "# Get the countries for which 'Continent' is a NaN value\n",
    "con_nan = life_expectancy.loc[life_expectancy['Continent'].isna()].index\n",
    "con_nan"
   ]
  },
  {
   "cell_type": "code",
   "execution_count": 44,
   "metadata": {},
   "outputs": [],
   "source": [
    "# Replace it manually\n",
    "life_expectancy.at['The former Yugoslav republic of Macedonia', 'Continent'] = 'Europe'"
   ]
  },
  {
   "cell_type": "code",
   "execution_count": 45,
   "metadata": {},
   "outputs": [
    {
     "data": {
      "text/html": [
       "<div>\n",
       "<style scoped>\n",
       "    .dataframe tbody tr th:only-of-type {\n",
       "        vertical-align: middle;\n",
       "    }\n",
       "\n",
       "    .dataframe tbody tr th {\n",
       "        vertical-align: top;\n",
       "    }\n",
       "\n",
       "    .dataframe thead th {\n",
       "        text-align: right;\n",
       "    }\n",
       "</style>\n",
       "<table border=\"1\" class=\"dataframe\">\n",
       "  <thead>\n",
       "    <tr style=\"text-align: right;\">\n",
       "      <th></th>\n",
       "      <th>name</th>\n",
       "      <th>hasnan</th>\n",
       "      <th>number</th>\n",
       "      <th>number country</th>\n",
       "    </tr>\n",
       "  </thead>\n",
       "  <tbody>\n",
       "  </tbody>\n",
       "</table>\n",
       "</div>"
      ],
      "text/plain": [
       "Empty DataFrame\n",
       "Columns: [name, hasnan, number, number country]\n",
       "Index: []"
      ]
     },
     "execution_count": 45,
     "metadata": {},
     "output_type": "execute_result"
    }
   ],
   "source": [
    "# Check the NaN values remaining\n",
    "get_nan_columns(life_expectancy, country_indexed=True)"
   ]
  },
  {
   "cell_type": "markdown",
   "metadata": {},
   "source": [
    "The data set is clean now !"
   ]
  },
  {
   "cell_type": "markdown",
   "metadata": {},
   "source": [
    "## Data Analysis"
   ]
  },
  {
   "cell_type": "markdown",
   "metadata": {},
   "source": [
    "### Correlation between features"
   ]
  },
  {
   "cell_type": "markdown",
   "metadata": {},
   "source": [
    "We start the analysis by plotting the correlation between the variables."
   ]
  },
  {
   "cell_type": "code",
   "execution_count": 46,
   "metadata": {},
   "outputs": [
    {
     "data": {
      "image/png": "[encoded data removed]",
      "text/plain": [
       "<Figure size 720x720 with 2 Axes>"
      ]
     },
     "metadata": {},
     "output_type": "display_data"
    }
   ],
   "source": [
    "# Plot the correlation map\n",
    "data = life_expectancy.drop('Continent', axis=1)\n",
    "fig = plt.figure(figsize=(10, 10))\n",
    "ax = fig.add_subplot(111)\n",
    "cax = ax.matshow(data.corr(), cmap='coolwarm', vmin=-1, vmax=1)\n",
    "fig.colorbar(cax)\n",
    "ticks = np.arange(0, len(data.columns), 1)\n",
    "ax.set_xticks(ticks)\n",
    "plt.xticks(rotation=90)\n",
    "ax.set_yticks(ticks)\n",
    "ax.set_xticklabels(data.columns, fontsize='large')\n",
    "ax.set_yticklabels(data.columns, fontsize='large')\n",
    "plt.show()"
   ]
  },
  {
   "cell_type": "markdown",
   "metadata": {},
   "source": [
    "By looking at the above plot, we can easily identify the features that are highly correlated and those that are not. For example, 'under-five deaths' is highly correlated with 'infant deaths' which is obvious. Also 'Population' and 'infant death' are correlated. This sounds logic too. If we look at 'Life expectancy', we can see that it is correlated to 'GDP, 'BMI', 'Polio', 'Diphteria', 'Income composition of resources' and 'Schooling'."
   ]
  },
  {
   "cell_type": "markdown",
   "metadata": {},
   "source": [
    "### Distribution of relevant features"
   ]
  },
  {
   "cell_type": "code",
   "execution_count": 47,
   "metadata": {},
   "outputs": [],
   "source": [
    "sns.set(style=\"white\", palette=\"muted\", color_codes=True)"
   ]
  },
  {
   "cell_type": "code",
   "execution_count": 48,
   "metadata": {},
   "outputs": [
    {
     "data": {
      "image/png": "[encoded data removed]",
      "text/plain": [
       "<Figure size 1296x360 with 1 Axes>"
      ]
     },
     "metadata": {},
     "output_type": "display_data"
    }
   ],
   "source": [
    "sns.distplot(life_expectancy['Life expectancy'])\n",
    "plt.xlabel('Life expectancy', fontsize='x-large')\n",
    "plt.gcf().set_size_inches(18, 5)\n",
    "plt.show()"
   ]
  },
  {
   "cell_type": "code",
   "execution_count": 49,
   "metadata": {},
   "outputs": [
    {
     "data": {
      "image/png": "[encoded data removed]",
      "text/plain": [
       "<Figure size 1296x360 with 1 Axes>"
      ]
     },
     "metadata": {},
     "output_type": "display_data"
    }
   ],
   "source": [
    "sns.distplot(life_expectancy['Adult Mortality'])\n",
    "plt.xlabel('Adult Mortality', fontsize='x-large')\n",
    "plt.gcf().set_size_inches(18, 5)\n",
    "plt.show()"
   ]
  },
  {
   "cell_type": "code",
   "execution_count": 50,
   "metadata": {},
   "outputs": [
    {
     "data": {
      "image/png": "[encoded data removed]",
      "text/plain": [
       "<Figure size 1296x360 with 1 Axes>"
      ]
     },
     "metadata": {},
     "output_type": "display_data"
    }
   ],
   "source": [
    "sns.distplot(life_expectancy['Alcohol'])\n",
    "plt.xlabel('Alcohol', fontsize='x-large')\n",
    "plt.gcf().set_size_inches(18, 5)\n",
    "plt.show()"
   ]
  },
  {
   "cell_type": "markdown",
   "metadata": {},
   "source": [
    "### Continent analysis"
   ]
  },
  {
   "cell_type": "code",
   "execution_count": 51,
   "metadata": {},
   "outputs": [],
   "source": [
    "def scatter_plot(scatter_x, scatter_y, x_label, y_label, x_log=False):\n",
    "    continents = life_expectancy['Continent'].values\n",
    "    cdict = {'Europe': 'royalblue', 'America': 'red', 'Africa': 'orange', 'Asia': 'limegreen', 'Oceania': 'violet'}\n",
    "    for g in np.unique(continents):\n",
    "        ix = np.where(continents == g)\n",
    "        plt.scatter(scatter_x[ix], scatter_y[ix], s=400, c=cdict[g], label=g, alpha=0.6)\n",
    "    plt.legend(loc='lower right', fontsize='x-large')\n",
    "    if(x_log):\n",
    "        plt.xscale('log')\n",
    "    plt.xlabel(x_label, fontsize='x-large')\n",
    "    plt.ylabel(y_label, fontsize='x-large')\n",
    "    plt.gcf().set_size_inches(18, 8)\n",
    "    plt.show()"
   ]
  },
  {
   "cell_type": "markdown",
   "metadata": {},
   "source": [
    "We plot relevant features that could help us separate the continents. We start by Life expectancy versus the GDP per capita in USD. We can clearly see the trend for Europe and Africa, with Asia in between."
   ]
  },
  {
   "cell_type": "code",
   "execution_count": 52,
   "metadata": {},
   "outputs": [
    {
     "data": {
      "image/png": "[encoded data removed]",
      "text/plain": [
       "<Figure size 1296x576 with 1 Axes>"
      ]
     },
     "metadata": {},
     "output_type": "display_data"
    }
   ],
   "source": [
    "# Scatter plot of GDP vs Life expectancy\n",
    "scatter_x = life_expectancy['GDP'].values\n",
    "scatter_y = life_expectancy['Life expectancy'].values\n",
    "scatter_plot(scatter_x, scatter_y, 'GDP in USD', 'Life expectancy', x_log=True)"
   ]
  },
  {
   "cell_type": "markdown",
   "metadata": {},
   "source": [
    "Here we plot the HIV/AIDS versus the adult mortality. Here again we can cleary see the trends for Africa, America and Europe."
   ]
  },
  {
   "cell_type": "code",
   "execution_count": 53,
   "metadata": {},
   "outputs": [
    {
     "data": {
      "image/png": "[encoded data removed]",
      "text/plain": [
       "<Figure size 1296x576 with 1 Axes>"
      ]
     },
     "metadata": {},
     "output_type": "display_data"
    }
   ],
   "source": [
    "# Scatter plot of HIV/AIDS vs Adult Mortality\n",
    "scatter_x = life_expectancy['HIV/AIDS'].values\n",
    "scatter_y = life_expectancy['Adult Mortality'].values\n",
    "scatter_plot(scatter_x, scatter_y, 'HIV/AIDS', 'Adult Mortality', x_log=True)"
   ]
  },
  {
   "cell_type": "markdown",
   "metadata": {},
   "source": [
    "We plot the schooling versus the life expectation. As the 2 plots above we get the same trends."
   ]
  },
  {
   "cell_type": "code",
   "execution_count": 54,
   "metadata": {},
   "outputs": [
    {
     "data": {
      "image/png": "[encoded data removed]",
      "text/plain": [
       "<Figure size 1296x576 with 1 Axes>"
      ]
     },
     "metadata": {},
     "output_type": "display_data"
    }
   ],
   "source": [
    "# Scatter plot of HIV/AIDS vs Adult Mortality\n",
    "scatter_x = life_expectancy['Schooling'].values\n",
    "scatter_y = life_expectancy['Life expectancy'].values\n",
    "scatter_plot(scatter_x, scatter_y, 'Schooling', 'Life expectancy')"
   ]
  },
  {
   "cell_type": "markdown",
   "metadata": {},
   "source": [
    "## Objective: Our objectives : (i) Predict life expectancy (ii) Identify features to improve life expectancy"
   ]
  },
  {
   "cell_type": "code",
   "execution_count": 56,
   "metadata": {},
   "outputs": [
    {
     "data": {
      "text/plain": [
       "Index(['Life expectancy', 'Adult Mortality', 'infant deaths', 'Alcohol',\n",
       "       'percentage expenditure', 'Hepatitis B', 'Measles', 'BMI',\n",
       "       'under-five deaths', 'Polio', 'Total expenditure', 'Diphtheria',\n",
       "       'HIV/AIDS', 'GDP', 'Population', 'thinness 1-19 years',\n",
       "       'thinness 5-9 years', 'Income composition of resources', 'Schooling',\n",
       "       'Developed', 'Developing', 'Continent'],\n",
       "      dtype='object')"
      ]
     },
     "execution_count": 56,
     "metadata": {},
     "output_type": "execute_result"
    }
   ],
   "source": [
    "life_expectancy.columns"
   ]
  },
  {
   "cell_type": "code",
   "execution_count": 57,
   "metadata": {
    "scrolled": true
   },
   "outputs": [
    {
     "data": {
      "text/html": [
       "<div>\n",
       "<style scoped>\n",
       "    .dataframe tbody tr th:only-of-type {\n",
       "        vertical-align: middle;\n",
       "    }\n",
       "\n",
       "    .dataframe tbody tr th {\n",
       "        vertical-align: top;\n",
       "    }\n",
       "\n",
       "    .dataframe thead th {\n",
       "        text-align: right;\n",
       "    }\n",
       "</style>\n",
       "<table border=\"1\" class=\"dataframe\">\n",
       "  <thead>\n",
       "    <tr style=\"text-align: right;\">\n",
       "      <th></th>\n",
       "      <th>Life expectancy</th>\n",
       "      <th>Adult Mortality</th>\n",
       "      <th>infant deaths</th>\n",
       "      <th>Alcohol</th>\n",
       "      <th>percentage expenditure</th>\n",
       "      <th>Hepatitis B</th>\n",
       "      <th>Measles</th>\n",
       "      <th>BMI</th>\n",
       "      <th>under-five deaths</th>\n",
       "      <th>Polio</th>\n",
       "      <th>...</th>\n",
       "      <th>HIV/AIDS</th>\n",
       "      <th>GDP</th>\n",
       "      <th>Population</th>\n",
       "      <th>thinness 1-19 years</th>\n",
       "      <th>thinness 5-9 years</th>\n",
       "      <th>Income composition of resources</th>\n",
       "      <th>Schooling</th>\n",
       "      <th>Developed</th>\n",
       "      <th>Developing</th>\n",
       "      <th>Continent</th>\n",
       "    </tr>\n",
       "    <tr>\n",
       "      <th>Country</th>\n",
       "      <th></th>\n",
       "      <th></th>\n",
       "      <th></th>\n",
       "      <th></th>\n",
       "      <th></th>\n",
       "      <th></th>\n",
       "      <th></th>\n",
       "      <th></th>\n",
       "      <th></th>\n",
       "      <th></th>\n",
       "      <th></th>\n",
       "      <th></th>\n",
       "      <th></th>\n",
       "      <th></th>\n",
       "      <th></th>\n",
       "      <th></th>\n",
       "      <th></th>\n",
       "      <th></th>\n",
       "      <th></th>\n",
       "      <th></th>\n",
       "      <th></th>\n",
       "    </tr>\n",
       "  </thead>\n",
       "  <tbody>\n",
       "    <tr>\n",
       "      <th>Afghanistan</th>\n",
       "      <td>58.19375</td>\n",
       "      <td>269.0625</td>\n",
       "      <td>78.2500</td>\n",
       "      <td>0.014375</td>\n",
       "      <td>34.960110</td>\n",
       "      <td>64.562500</td>\n",
       "      <td>2362.2500</td>\n",
       "      <td>15.51875</td>\n",
       "      <td>107.5625</td>\n",
       "      <td>48.3750</td>\n",
       "      <td>...</td>\n",
       "      <td>0.10000</td>\n",
       "      <td>340.015425</td>\n",
       "      <td>9.972260e+06</td>\n",
       "      <td>16.58125</td>\n",
       "      <td>15.58125</td>\n",
       "      <td>0.415375</td>\n",
       "      <td>8.21250</td>\n",
       "      <td>0</td>\n",
       "      <td>1</td>\n",
       "      <td>Asia</td>\n",
       "    </tr>\n",
       "    <tr>\n",
       "      <th>Albania</th>\n",
       "      <td>75.15625</td>\n",
       "      <td>45.0625</td>\n",
       "      <td>0.6875</td>\n",
       "      <td>4.848750</td>\n",
       "      <td>193.259091</td>\n",
       "      <td>98.000000</td>\n",
       "      <td>53.3750</td>\n",
       "      <td>49.06875</td>\n",
       "      <td>0.9375</td>\n",
       "      <td>98.1250</td>\n",
       "      <td>...</td>\n",
       "      <td>0.10000</td>\n",
       "      <td>2119.726679</td>\n",
       "      <td>6.969116e+05</td>\n",
       "      <td>1.61875</td>\n",
       "      <td>1.70000</td>\n",
       "      <td>0.709875</td>\n",
       "      <td>12.13750</td>\n",
       "      <td>0</td>\n",
       "      <td>1</td>\n",
       "      <td>Europe</td>\n",
       "    </tr>\n",
       "    <tr>\n",
       "      <th>Algeria</th>\n",
       "      <td>73.61875</td>\n",
       "      <td>108.1875</td>\n",
       "      <td>20.3125</td>\n",
       "      <td>0.406667</td>\n",
       "      <td>236.185241</td>\n",
       "      <td>78.000000</td>\n",
       "      <td>1943.8750</td>\n",
       "      <td>48.74375</td>\n",
       "      <td>23.5000</td>\n",
       "      <td>91.7500</td>\n",
       "      <td>...</td>\n",
       "      <td>0.10000</td>\n",
       "      <td>2847.853392</td>\n",
       "      <td>2.164983e+07</td>\n",
       "      <td>6.09375</td>\n",
       "      <td>5.97500</td>\n",
       "      <td>0.694875</td>\n",
       "      <td>12.71250</td>\n",
       "      <td>0</td>\n",
       "      <td>1</td>\n",
       "      <td>Africa</td>\n",
       "    </tr>\n",
       "    <tr>\n",
       "      <th>Angola</th>\n",
       "      <td>49.01875</td>\n",
       "      <td>328.5625</td>\n",
       "      <td>83.7500</td>\n",
       "      <td>5.740667</td>\n",
       "      <td>102.100268</td>\n",
       "      <td>70.222222</td>\n",
       "      <td>3561.3125</td>\n",
       "      <td>18.01875</td>\n",
       "      <td>132.6250</td>\n",
       "      <td>46.1250</td>\n",
       "      <td>...</td>\n",
       "      <td>2.36875</td>\n",
       "      <td>1975.143045</td>\n",
       "      <td>1.014710e+07</td>\n",
       "      <td>6.19375</td>\n",
       "      <td>6.66875</td>\n",
       "      <td>0.458375</td>\n",
       "      <td>8.04375</td>\n",
       "      <td>0</td>\n",
       "      <td>1</td>\n",
       "      <td>Africa</td>\n",
       "    </tr>\n",
       "    <tr>\n",
       "      <th>Antigua and Barbuda</th>\n",
       "      <td>75.05625</td>\n",
       "      <td>127.5000</td>\n",
       "      <td>0.0000</td>\n",
       "      <td>7.949333</td>\n",
       "      <td>1001.585226</td>\n",
       "      <td>98.266667</td>\n",
       "      <td>0.0000</td>\n",
       "      <td>38.42500</td>\n",
       "      <td>0.0000</td>\n",
       "      <td>96.9375</td>\n",
       "      <td>...</td>\n",
       "      <td>0.12500</td>\n",
       "      <td>9759.305728</td>\n",
       "      <td>1.040840e+05</td>\n",
       "      <td>3.42500</td>\n",
       "      <td>3.37500</td>\n",
       "      <td>0.488625</td>\n",
       "      <td>8.84375</td>\n",
       "      <td>0</td>\n",
       "      <td>1</td>\n",
       "      <td>America</td>\n",
       "    </tr>\n",
       "  </tbody>\n",
       "</table>\n",
       "<p>5 rows × 22 columns</p>\n",
       "</div>"
      ],
      "text/plain": [
       "                     Life expectancy  Adult Mortality  infant deaths  \\\n",
       "Country                                                                \n",
       "Afghanistan                 58.19375         269.0625        78.2500   \n",
       "Albania                     75.15625          45.0625         0.6875   \n",
       "Algeria                     73.61875         108.1875        20.3125   \n",
       "Angola                      49.01875         328.5625        83.7500   \n",
       "Antigua and Barbuda         75.05625         127.5000         0.0000   \n",
       "\n",
       "                      Alcohol  percentage expenditure  Hepatitis B    Measles  \\\n",
       "Country                                                                         \n",
       "Afghanistan          0.014375               34.960110    64.562500  2362.2500   \n",
       "Albania              4.848750              193.259091    98.000000    53.3750   \n",
       "Algeria              0.406667              236.185241    78.000000  1943.8750   \n",
       "Angola               5.740667              102.100268    70.222222  3561.3125   \n",
       "Antigua and Barbuda  7.949333             1001.585226    98.266667     0.0000   \n",
       "\n",
       "                          BMI  under-five deaths    Polio    ...      \\\n",
       "Country                                                      ...       \n",
       "Afghanistan          15.51875           107.5625  48.3750    ...       \n",
       "Albania              49.06875             0.9375  98.1250    ...       \n",
       "Algeria              48.74375            23.5000  91.7500    ...       \n",
       "Angola               18.01875           132.6250  46.1250    ...       \n",
       "Antigua and Barbuda  38.42500             0.0000  96.9375    ...       \n",
       "\n",
       "                     HIV/AIDS          GDP    Population  thinness 1-19 years  \\\n",
       "Country                                                                         \n",
       "Afghanistan           0.10000   340.015425  9.972260e+06             16.58125   \n",
       "Albania               0.10000  2119.726679  6.969116e+05              1.61875   \n",
       "Algeria               0.10000  2847.853392  2.164983e+07              6.09375   \n",
       "Angola                2.36875  1975.143045  1.014710e+07              6.19375   \n",
       "Antigua and Barbuda   0.12500  9759.305728  1.040840e+05              3.42500   \n",
       "\n",
       "                     thinness 5-9 years  Income composition of resources  \\\n",
       "Country                                                                    \n",
       "Afghanistan                    15.58125                         0.415375   \n",
       "Albania                         1.70000                         0.709875   \n",
       "Algeria                         5.97500                         0.694875   \n",
       "Angola                          6.66875                         0.458375   \n",
       "Antigua and Barbuda             3.37500                         0.488625   \n",
       "\n",
       "                     Schooling  Developed  Developing  Continent  \n",
       "Country                                                           \n",
       "Afghanistan            8.21250          0           1       Asia  \n",
       "Albania               12.13750          0           1     Europe  \n",
       "Algeria               12.71250          0           1     Africa  \n",
       "Angola                 8.04375          0           1     Africa  \n",
       "Antigua and Barbuda    8.84375          0           1    America  \n",
       "\n",
       "[5 rows x 22 columns]"
      ]
     },
     "execution_count": 57,
     "metadata": {},
     "output_type": "execute_result"
    }
   ],
   "source": [
    "life_expectancy.head()"
   ]
  },
  {
   "cell_type": "markdown",
   "metadata": {},
   "source": [
    "### Let's start with a simple linear regression"
   ]
  },
  {
   "cell_type": "code",
   "execution_count": null,
   "metadata": {},
   "outputs": [],
   "source": []
  },
  {
   "cell_type": "markdown",
   "metadata": {},
   "source": [
    "We one hot encode the continent feature"
   ]
  },
  {
   "cell_type": "code",
   "execution_count": 68,
   "metadata": {},
   "outputs": [],
   "source": [
    "life_expectancy = pd.get_dummies(life_expectancy)"
   ]
  },
  {
   "cell_type": "code",
   "execution_count": 69,
   "metadata": {},
   "outputs": [],
   "source": [
    "# Let's create a test set and a train set\n",
    "\n",
    "\n",
    "msk = np.random.rand(len(life_expectancy)) < 0.8\n",
    "train_set = life_expectancy[msk].values\n",
    "test_set = life_expectancy[~msk].values\n",
    "\n",
    "X_train = np.delete(train_set,0,1)\n",
    "Y_train = train_set[:,0]\n",
    "\n",
    "X_test = np.delete(test_set,0,1)\n",
    "Y_test = test_set[:,0]"
   ]
  },
  {
   "cell_type": "markdown",
   "metadata": {},
   "source": [
    "We are going to split our X_train and X_test so we can standardize only the part where there is no dummy varibles. We add them back after standardization."
   ]
  },
  {
   "cell_type": "code",
   "execution_count": 125,
   "metadata": {},
   "outputs": [],
   "source": [
    "X_train_no_dummies = np.split(X_train, [18,25], axis=1)[0]\n",
    "X_train_dummies = np.split(X_train, [18,25], axis=1)[1]\n",
    "\n",
    "X_test_no_dummies = np.split(X_test, [18,25], axis=1)[0]\n",
    "X_test_dummies = np.split(X_test, [18,25], axis=1)[1]"
   ]
  },
  {
   "cell_type": "code",
   "execution_count": 126,
   "metadata": {},
   "outputs": [],
   "source": [
    "#Standardize the data\n",
    "\n",
    "scaler = preprocessing.StandardScaler().fit(X_train_no_dummies)\n",
    "X_train_no_dummies_scaled = scaler.transform(X_train_no_dummies)\n",
    "X_test_no_dummies_scaled = scaler.transform(X_test_no_dummies)"
   ]
  },
  {
   "cell_type": "code",
   "execution_count": 127,
   "metadata": {},
   "outputs": [],
   "source": [
    "#We merge them back\n",
    "\n",
    "X_train_scaled = np.concatenate((X_train_no_dummies_scaled,X_train_dummies), axis = 1)\n",
    "X_test_scaled = np.concatenate((X_test_no_dummies_scaled,X_test_dummies), axis = 1)"
   ]
  },
  {
   "cell_type": "markdown",
   "metadata": {},
   "source": [
    "In the next cell we will do ridge regression + polynomial expansion. We will choose the hyper parameters with k fold cross validation and choose the best model. "
   ]
  },
  {
   "cell_type": "code",
   "execution_count": 150,
   "metadata": {},
   "outputs": [],
   "source": [
    "kf = KFold(n_splits=10, shuffle = True)\n",
    "\n",
    "for train_index, test_index in kf.split(X_train_scaled):\n",
    "        \n",
    "    \n",
    "    X_train_scaled_k, X_test_scaled_k = X_train_scaled[train_index], X_train_scaled[test_index]\n",
    "    Y_train_k, Y_test_k= Y_train[train_index], Y_train[test_index]\n",
    "        "
   ]
  },
  {
   "cell_type": "code",
   "execution_count": 147,
   "metadata": {},
   "outputs": [
    {
     "data": {
      "text/plain": [
       "0.9464802498163076"
      ]
     },
     "execution_count": 147,
     "metadata": {},
     "output_type": "execute_result"
    }
   ],
   "source": [
    "reg = LinearRegression().fit(X_train_scaled,Y_train)\n",
    "reg.score(X_train_scaled,Y_train)"
   ]
  },
  {
   "cell_type": "code",
   "execution_count": 129,
   "metadata": {},
   "outputs": [
    {
     "data": {
      "text/plain": [
       "Index(['Life expectancy', 'Adult Mortality', 'infant deaths', 'Alcohol',\n",
       "       'percentage expenditure', 'Hepatitis B', 'Measles', 'BMI',\n",
       "       'under-five deaths', 'Polio', 'Total expenditure', 'Diphtheria',\n",
       "       'HIV/AIDS', 'GDP', 'Population', 'thinness 1-19 years',\n",
       "       'thinness 5-9 years', 'Income composition of resources', 'Schooling',\n",
       "       'Developed', 'Developing', 'Continent_Africa', 'Continent_America',\n",
       "       'Continent_Asia', 'Continent_Europe', 'Continent_Oceania'],\n",
       "      dtype='object')"
      ]
     },
     "execution_count": 129,
     "metadata": {},
     "output_type": "execute_result"
    }
   ],
   "source": [
    "life_expectancy.columns"
   ]
  },
  {
   "cell_type": "code",
   "execution_count": 130,
   "metadata": {},
   "outputs": [
    {
     "data": {
      "text/plain": [
       "array([-4.33938362,  4.32347317,  0.32164346,  0.75003255,  0.06106318,\n",
       "        0.10493388,  0.51133204, -5.56394415,  0.71948425, -0.13871075,\n",
       "        0.62315021, -0.60947989,  0.25071661,  0.77675675,  4.02040882,\n",
       "       -3.50886175,  1.24389759,  1.28256015, -3.25942805, -3.74277583,\n",
       "       -1.3545927 ,  0.82565873,  0.1484898 , -0.04440977,  0.42485394])"
      ]
     },
     "execution_count": 130,
     "metadata": {},
     "output_type": "execute_result"
    }
   ],
   "source": [
    "reg.coef_"
   ]
  },
  {
   "cell_type": "code",
   "execution_count": 131,
   "metadata": {},
   "outputs": [
    {
     "data": {
      "text/plain": [
       "72.85228261358948"
      ]
     },
     "execution_count": 131,
     "metadata": {},
     "output_type": "execute_result"
    }
   ],
   "source": [
    "reg.intercept_"
   ]
  },
  {
   "cell_type": "code",
   "execution_count": 133,
   "metadata": {},
   "outputs": [
    {
     "data": {
      "text/plain": [
       "<matplotlib.axes._subplots.AxesSubplot at 0x1a20e8f208>"
      ]
     },
     "execution_count": 133,
     "metadata": {},
     "output_type": "execute_result"
    },
    {
     "data": {
      "image/png": "[encoded data removed]",
      "text/plain": [
       "<Figure size 432x288 with 1 Axes>"
      ]
     },
     "metadata": {},
     "output_type": "display_data"
    }
   ],
   "source": [
    "\n",
    "sns.scatterplot(x=Y_test, y = reg.predict(X_test_scaled))\n",
    "sns.scatterplot(x =Y_test, y = Y_test)"
   ]
  },
  {
   "cell_type": "markdown",
   "metadata": {},
   "source": [
    "Let's give an analysis of the coefficients: The coefficients of all the continents except Europe and Africa are positive. This tells us there is a positive correlation between the life expectancy and living in America for example. This tells us that in average you live a less amount of time if you live in Africa. \n",
    "\n",
    "Something weird: There is a negative correlation between life expectancy and living in a developed country as well as in a developing country. The two coefficients are quite close also. \n",
    "\n",
    "\n",
    "Income composition of ressources and schooling are two features that are positively correlated with the life expectancy. Thus our model tells us that it would be interesting to work on those feature to improve the life expectancy. Schooling can be a relatively easy feature to work on, however income composition of ressource is not. It is an index that takes into account a lot of parameters. Hence it is not very interesting to say that we will work on it. \n",
    "\n",
    "Thinness 5-9 years old is strongly negatvely correlated with the life expectancy. \n",
    "\n",
    "Something weird: Infant death is positively correlated with life expectancy ..."
   ]
  },
  {
   "cell_type": "markdown",
   "metadata": {},
   "source": [
    "**We will now do feature elimination in order to keep the significant ones.**"
   ]
  },
  {
   "cell_type": "code",
   "execution_count": 137,
   "metadata": {},
   "outputs": [],
   "source": [
    "estimator = reg\n",
    "selector = RFE(estimator, 5, step = 1)"
   ]
  },
  {
   "cell_type": "code",
   "execution_count": 139,
   "metadata": {},
   "outputs": [
    {
     "data": {
      "text/plain": [
       "array([ True,  True, False, False, False, False, False,  True, False,\n",
       "       False, False, False, False, False,  True, False,  True, False,\n",
       "       False, False, False, False, False, False, False])"
      ]
     },
     "execution_count": 139,
     "metadata": {},
     "output_type": "execute_result"
    }
   ],
   "source": [
    "selector = selector.fit(X_train_scaled, Y_train)\n",
    "selector.support_"
   ]
  },
  {
   "cell_type": "code",
   "execution_count": 140,
   "metadata": {},
   "outputs": [
    {
     "data": {
      "text/plain": [
       "array([ 1,  1, 16, 10, 20, 19, 13,  1,  7, 18, 12, 11, 17,  9,  1,  2,  1,\n",
       "        3,  6,  5,  4,  8, 15, 21, 14])"
      ]
     },
     "execution_count": 140,
     "metadata": {},
     "output_type": "execute_result"
    }
   ],
   "source": [
    "selector.ranking_"
   ]
  },
  {
   "cell_type": "code",
   "execution_count": null,
   "metadata": {},
   "outputs": [],
   "source": []
  }
 ],
 "metadata": {
  "kernelspec": {
   "display_name": "Python 3",
   "language": "python",
   "name": "python3"
  },
  "language_info": {
   "codemirror_mode": {
    "name": "ipython",
    "version": 3
   },
   "file_extension": ".py",
   "mimetype": "text/x-python",
   "name": "python",
   "nbconvert_exporter": "python",
   "pygments_lexer": "ipython3",
   "version": "3.6.8"
  }
 },
 "nbformat": 4,
 "nbformat_minor": 2
}
